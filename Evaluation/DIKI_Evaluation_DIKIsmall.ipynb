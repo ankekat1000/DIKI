{
 "cells": [
  {
   "cell_type": "markdown",
   "metadata": {
    "id": "fVU7a7KL1fKY"
   },
   "source": [
    "# Evaluation DIKI small"
   ]
  },
  {
   "cell_type": "code",
   "execution_count": 1,
   "metadata": {
    "id": "8CmPN5rX1fKe"
   },
   "outputs": [],
   "source": [
    "import pandas as pd"
   ]
  },
  {
   "cell_type": "markdown",
   "metadata": {
    "id": "MYjo83bx4ExN"
   },
   "source": [
    "#### Read DIKI Small"
   ]
  },
  {
   "cell_type": "code",
   "execution_count": 2,
   "metadata": {
    "id": "t241IK0J1fKi",
    "scrolled": true
   },
   "outputs": [],
   "source": [
    "df = pd.read_csv(\"DIKI_small.csv\")"
   ]
  },
  {
   "cell_type": "code",
   "execution_count": 3,
   "metadata": {
    "colab": {
     "base_uri": "https://localhost:8080/",
     "height": 206
    },
    "executionInfo": {
     "elapsed": 5,
     "status": "ok",
     "timestamp": 1639065131518,
     "user": {
      "displayName": "Anke S.",
      "photoUrl": "https://lh3.googleusercontent.com/a/default-user=s64",
      "userId": "12382145308137163489"
     },
     "user_tz": -60
    },
    "id": "PjNjJDVw1fKj",
    "outputId": "ccce6331-dc25-4570-e8d1-8264257df4d8"
   },
   "outputs": [
    {
     "data": {
      "text/html": [
       "<div>\n",
       "<style scoped>\n",
       "    .dataframe tbody tr th:only-of-type {\n",
       "        vertical-align: middle;\n",
       "    }\n",
       "\n",
       "    .dataframe tbody tr th {\n",
       "        vertical-align: top;\n",
       "    }\n",
       "\n",
       "    .dataframe thead th {\n",
       "        text-align: right;\n",
       "    }\n",
       "</style>\n",
       "<table border=\"1\" class=\"dataframe\">\n",
       "  <thead>\n",
       "    <tr style=\"text-align: right;\">\n",
       "      <th></th>\n",
       "      <th>key words</th>\n",
       "    </tr>\n",
       "  </thead>\n",
       "  <tbody>\n",
       "    <tr>\n",
       "      <th>0</th>\n",
       "      <td>\"absurdistan\"</td>\n",
       "    </tr>\n",
       "    <tr>\n",
       "      <th>1</th>\n",
       "      <td>\"bild-dungsbürger\"</td>\n",
       "    </tr>\n",
       "    <tr>\n",
       "      <th>2</th>\n",
       "      <td>\"eierlosen\"</td>\n",
       "    </tr>\n",
       "    <tr>\n",
       "      <th>3</th>\n",
       "      <td>\"entsorgen\"</td>\n",
       "    </tr>\n",
       "    <tr>\n",
       "      <th>4</th>\n",
       "      <td>\"entsorgt\"</td>\n",
       "    </tr>\n",
       "  </tbody>\n",
       "</table>\n",
       "</div>"
      ],
      "text/plain": [
       "            key words\n",
       "0       \"absurdistan\"\n",
       "1  \"bild-dungsbürger\"\n",
       "2         \"eierlosen\"\n",
       "3         \"entsorgen\"\n",
       "4          \"entsorgt\""
      ]
     },
     "execution_count": 3,
     "metadata": {},
     "output_type": "execute_result"
    }
   ],
   "source": [
    "df.head()"
   ]
  },
  {
   "cell_type": "code",
   "execution_count": 4,
   "metadata": {
    "colab": {
     "base_uri": "https://localhost:8080/"
    },
    "executionInfo": {
     "elapsed": 3,
     "status": "ok",
     "timestamp": 1639065133667,
     "user": {
      "displayName": "Anke S.",
      "photoUrl": "https://lh3.googleusercontent.com/a/default-user=s64",
      "userId": "12382145308137163489"
     },
     "user_tz": -60
    },
    "id": "PSPKwk2t1fKk",
    "outputId": "2c0d06f5-1f9c-440d-9a8f-eba41730ed7b"
   },
   "outputs": [
    {
     "data": {
      "text/plain": [
       "2874"
      ]
     },
     "execution_count": 4,
     "metadata": {},
     "output_type": "execute_result"
    }
   ],
   "source": [
    "len(df)"
   ]
  },
  {
   "cell_type": "code",
   "execution_count": 5,
   "metadata": {
    "id": "G84YQ4Rw1fKm"
   },
   "outputs": [],
   "source": [
    "low_incivility_unigrams = list(df[\"key words\"])"
   ]
  },
  {
   "cell_type": "code",
   "execution_count": 6,
   "metadata": {
    "colab": {
     "base_uri": "https://localhost:8080/"
    },
    "executionInfo": {
     "elapsed": 3,
     "status": "ok",
     "timestamp": 1639065134874,
     "user": {
      "displayName": "Anke S.",
      "photoUrl": "https://lh3.googleusercontent.com/a/default-user=s64",
      "userId": "12382145308137163489"
     },
     "user_tz": -60
    },
    "id": "xJcT0xQe1fKn",
    "outputId": "92203c6d-7096-430b-9d15-1430e5016199"
   },
   "outputs": [
    {
     "data": {
      "text/plain": [
       "['\"absurdistan\"',\n",
       " '\"bild-dungsbürger\"',\n",
       " '\"eierlosen\"',\n",
       " '\"entsorgen\"',\n",
       " '\"entsorgt\"',\n",
       " '\"flüchtling\"',\n",
       " '\"flüchtlinge\"',\n",
       " '\"friedenstaube\"',\n",
       " '\"gästen\"',\n",
       " '\"heimkehrer\"',\n",
       " '\"integrieren\"',\n",
       " '\"männergruppen\"',\n",
       " '\"pirat\"',\n",
       " '\"schiffbrüchigen\"',\n",
       " '\"schutzberechtigten\"',\n",
       " '\"sozialpopulist\"',\n",
       " '\"spitzenmann\"',\n",
       " '\"wähler\"',\n",
       " '\"zecken\"',\n",
       " '\"ziegenhirten\"',\n",
       " '#abgefucktespd',\n",
       " '#abschiebeindustrie',\n",
       " '#afdnazis',\n",
       " '#afdwegfegen',\n",
       " '#afdwuergt',\n",
       " '#afdwürgt',\n",
       " '#alkoholiker',\n",
       " '#allahkotz',\n",
       " '#altparteien',\n",
       " '#altparteienkartel']"
      ]
     },
     "execution_count": 6,
     "metadata": {},
     "output_type": "execute_result"
    }
   ],
   "source": [
    "low_incivility_unigrams[:30]"
   ]
  },
  {
   "cell_type": "code",
   "execution_count": 7,
   "metadata": {
    "colab": {
     "base_uri": "https://localhost:8080/"
    },
    "executionInfo": {
     "elapsed": 2,
     "status": "ok",
     "timestamp": 1639065136705,
     "user": {
      "displayName": "Anke S.",
      "photoUrl": "https://lh3.googleusercontent.com/a/default-user=s64",
      "userId": "12382145308137163489"
     },
     "user_tz": -60
    },
    "id": "GDpUZidt1fKp",
    "outputId": "74a21d19-f899-49bd-818f-c699f903f882"
   },
   "outputs": [
    {
     "data": {
      "text/plain": [
       "2874"
      ]
     },
     "execution_count": 7,
     "metadata": {},
     "output_type": "execute_result"
    }
   ],
   "source": [
    "len(low_incivility_unigrams)"
   ]
  },
  {
   "cell_type": "code",
   "execution_count": 8,
   "metadata": {
    "colab": {
     "base_uri": "https://localhost:8080/"
    },
    "executionInfo": {
     "elapsed": 2,
     "status": "ok",
     "timestamp": 1639065137229,
     "user": {
      "displayName": "Anke S.",
      "photoUrl": "https://lh3.googleusercontent.com/a/default-user=s64",
      "userId": "12382145308137163489"
     },
     "user_tz": -60
    },
    "id": "AEMR1Bbh1fKr",
    "outputId": "a4a79ed4-ac10-46cd-9cae-92812966424b"
   },
   "outputs": [
    {
     "data": {
      "text/plain": [
       "2874"
      ]
     },
     "execution_count": 8,
     "metadata": {},
     "output_type": "execute_result"
    }
   ],
   "source": [
    "len(set(low_incivility_unigrams)) #no duplicates"
   ]
  },
  {
   "cell_type": "markdown",
   "metadata": {
    "id": "zOsMuh7h1fKr"
   },
   "source": [
    "#### Load Test Data"
   ]
  },
  {
   "cell_type": "code",
   "execution_count": 9,
   "metadata": {
    "id": "JjZqrWv723_j"
   },
   "outputs": [],
   "source": [
    "df_test = pd.read_csv(\"GermEval21_TestData.csv\")"
   ]
  },
  {
   "cell_type": "code",
   "execution_count": 13,
   "metadata": {
    "colab": {
     "base_uri": "https://localhost:8080/",
     "height": 990
    },
    "executionInfo": {
     "elapsed": 1024,
     "status": "ok",
     "timestamp": 1639065166077,
     "user": {
      "displayName": "Anke S.",
      "photoUrl": "https://lh3.googleusercontent.com/a/default-user=s64",
      "userId": "12382145308137163489"
     },
     "user_tz": -60
    },
    "id": "CB8BsjlE1fKs",
    "outputId": "e1685a4f-fb20-4103-c81c-540b0a4bd5ac"
   },
   "outputs": [
    {
     "data": {
      "text/html": [
       "<div>\n",
       "<style scoped>\n",
       "    .dataframe tbody tr th:only-of-type {\n",
       "        vertical-align: middle;\n",
       "    }\n",
       "\n",
       "    .dataframe tbody tr th {\n",
       "        vertical-align: top;\n",
       "    }\n",
       "\n",
       "    .dataframe thead th {\n",
       "        text-align: right;\n",
       "    }\n",
       "</style>\n",
       "<table border=\"1\" class=\"dataframe\">\n",
       "  <thead>\n",
       "    <tr style=\"text-align: right;\">\n",
       "      <th></th>\n",
       "      <th>comment_id</th>\n",
       "      <th>comment_text</th>\n",
       "      <th>Sub1_Toxic</th>\n",
       "      <th>Sub2_Engaging</th>\n",
       "      <th>Sub3_FactClaiming</th>\n",
       "    </tr>\n",
       "  </thead>\n",
       "  <tbody>\n",
       "    <tr>\n",
       "      <th>0</th>\n",
       "      <td>3245</td>\n",
       "      <td>@USER Sie würden wahrscheinlich auch einen Kri...</td>\n",
       "      <td>1</td>\n",
       "      <td>1</td>\n",
       "      <td>0</td>\n",
       "    </tr>\n",
       "    <tr>\n",
       "      <th>1</th>\n",
       "      <td>3246</td>\n",
       "      <td>@USER , ich glaube,Sie verkrnnen gründlich die...</td>\n",
       "      <td>0</td>\n",
       "      <td>1</td>\n",
       "      <td>1</td>\n",
       "    </tr>\n",
       "    <tr>\n",
       "      <th>2</th>\n",
       "      <td>3247</td>\n",
       "      <td>@USER: Man kann natürlich immerzu dieselbe Sau...</td>\n",
       "      <td>0</td>\n",
       "      <td>1</td>\n",
       "      <td>1</td>\n",
       "    </tr>\n",
       "    <tr>\n",
       "      <th>3</th>\n",
       "      <td>3248</td>\n",
       "      <td>Als jemand, der im real existierenden Sozialis...</td>\n",
       "      <td>1</td>\n",
       "      <td>0</td>\n",
       "      <td>0</td>\n",
       "    </tr>\n",
       "    <tr>\n",
       "      <th>4</th>\n",
       "      <td>3249</td>\n",
       "      <td>Ihr größter Erfolg in ihrem Leben? KLASSENSPRE...</td>\n",
       "      <td>1</td>\n",
       "      <td>0</td>\n",
       "      <td>0</td>\n",
       "    </tr>\n",
       "  </tbody>\n",
       "</table>\n",
       "</div>"
      ],
      "text/plain": [
       "   comment_id                                       comment_text  Sub1_Toxic  \\\n",
       "0        3245  @USER Sie würden wahrscheinlich auch einen Kri...           1   \n",
       "1        3246  @USER , ich glaube,Sie verkrnnen gründlich die...           0   \n",
       "2        3247  @USER: Man kann natürlich immerzu dieselbe Sau...           0   \n",
       "3        3248  Als jemand, der im real existierenden Sozialis...           1   \n",
       "4        3249  Ihr größter Erfolg in ihrem Leben? KLASSENSPRE...           1   \n",
       "\n",
       "   Sub2_Engaging  Sub3_FactClaiming  \n",
       "0              1                  0  \n",
       "1              1                  1  \n",
       "2              1                  1  \n",
       "3              0                  0  \n",
       "4              0                  0  "
      ]
     },
     "execution_count": 13,
     "metadata": {},
     "output_type": "execute_result"
    }
   ],
   "source": [
    "df_test.head()"
   ]
  },
  {
   "cell_type": "code",
   "execution_count": 11,
   "metadata": {
    "colab": {
     "base_uri": "https://localhost:8080/"
    },
    "executionInfo": {
     "elapsed": 9,
     "status": "ok",
     "timestamp": 1639065166079,
     "user": {
      "displayName": "Anke S.",
      "photoUrl": "https://lh3.googleusercontent.com/a/default-user=s64",
      "userId": "12382145308137163489"
     },
     "user_tz": -60
    },
    "id": "LSkkgD9C1fKt",
    "outputId": "b8f3954f-c8b3-443b-b746-ec9340c3037d"
   },
   "outputs": [
    {
     "data": {
      "text/plain": [
       "944"
      ]
     },
     "execution_count": 11,
     "metadata": {},
     "output_type": "execute_result"
    }
   ],
   "source": [
    "len(df_test)"
   ]
  },
  {
   "cell_type": "code",
   "execution_count": 12,
   "metadata": {
    "colab": {
     "base_uri": "https://localhost:8080/"
    },
    "executionInfo": {
     "elapsed": 7,
     "status": "ok",
     "timestamp": 1639065166079,
     "user": {
      "displayName": "Anke S.",
      "photoUrl": "https://lh3.googleusercontent.com/a/default-user=s64",
      "userId": "12382145308137163489"
     },
     "user_tz": -60
    },
    "id": "iMMQtGlN1fKw",
    "outputId": "c0ed9e15-1075-408c-f266-52f241f1b6dc"
   },
   "outputs": [
    {
     "data": {
      "text/plain": [
       "0    594\n",
       "1    350\n",
       "Name: Sub1_Toxic, dtype: int64"
      ]
     },
     "execution_count": 12,
     "metadata": {},
     "output_type": "execute_result"
    }
   ],
   "source": [
    "df_test[\"Sub1_Toxic\"].value_counts()"
   ]
  },
  {
   "cell_type": "code",
   "execution_count": 14,
   "metadata": {
    "id": "d1LVdOrG50Bh"
   },
   "outputs": [],
   "source": [
    "df_test = df_test[[\"comment_text\", \"Sub1_Toxic\"]] #Keep only the columns needed."
   ]
  },
  {
   "cell_type": "code",
   "execution_count": 15,
   "metadata": {
    "colab": {
     "base_uri": "https://localhost:8080/",
     "height": 206
    },
    "executionInfo": {
     "elapsed": 5,
     "status": "ok",
     "timestamp": 1639065166080,
     "user": {
      "displayName": "Anke S.",
      "photoUrl": "https://lh3.googleusercontent.com/a/default-user=s64",
      "userId": "12382145308137163489"
     },
     "user_tz": -60
    },
    "id": "5WXhzPCv5_ej",
    "outputId": "3028ee5d-912e-480f-b0c8-c1cf72e8497c"
   },
   "outputs": [
    {
     "data": {
      "text/html": [
       "<div>\n",
       "<style scoped>\n",
       "    .dataframe tbody tr th:only-of-type {\n",
       "        vertical-align: middle;\n",
       "    }\n",
       "\n",
       "    .dataframe tbody tr th {\n",
       "        vertical-align: top;\n",
       "    }\n",
       "\n",
       "    .dataframe thead th {\n",
       "        text-align: right;\n",
       "    }\n",
       "</style>\n",
       "<table border=\"1\" class=\"dataframe\">\n",
       "  <thead>\n",
       "    <tr style=\"text-align: right;\">\n",
       "      <th></th>\n",
       "      <th>comment_text</th>\n",
       "      <th>Sub1_Toxic</th>\n",
       "    </tr>\n",
       "  </thead>\n",
       "  <tbody>\n",
       "    <tr>\n",
       "      <th>0</th>\n",
       "      <td>@USER Sie würden wahrscheinlich auch einen Kri...</td>\n",
       "      <td>1</td>\n",
       "    </tr>\n",
       "    <tr>\n",
       "      <th>1</th>\n",
       "      <td>@USER , ich glaube,Sie verkrnnen gründlich die...</td>\n",
       "      <td>0</td>\n",
       "    </tr>\n",
       "    <tr>\n",
       "      <th>2</th>\n",
       "      <td>@USER: Man kann natürlich immerzu dieselbe Sau...</td>\n",
       "      <td>0</td>\n",
       "    </tr>\n",
       "    <tr>\n",
       "      <th>3</th>\n",
       "      <td>Als jemand, der im real existierenden Sozialis...</td>\n",
       "      <td>1</td>\n",
       "    </tr>\n",
       "    <tr>\n",
       "      <th>4</th>\n",
       "      <td>Ihr größter Erfolg in ihrem Leben? KLASSENSPRE...</td>\n",
       "      <td>1</td>\n",
       "    </tr>\n",
       "  </tbody>\n",
       "</table>\n",
       "</div>"
      ],
      "text/plain": [
       "                                        comment_text  Sub1_Toxic\n",
       "0  @USER Sie würden wahrscheinlich auch einen Kri...           1\n",
       "1  @USER , ich glaube,Sie verkrnnen gründlich die...           0\n",
       "2  @USER: Man kann natürlich immerzu dieselbe Sau...           0\n",
       "3  Als jemand, der im real existierenden Sozialis...           1\n",
       "4  Ihr größter Erfolg in ihrem Leben? KLASSENSPRE...           1"
      ]
     },
     "execution_count": 15,
     "metadata": {},
     "output_type": "execute_result"
    }
   ],
   "source": [
    "df_test.head()"
   ]
  },
  {
   "cell_type": "markdown",
   "metadata": {
    "id": "tp_mIMXO1fLA"
   },
   "source": [
    "### Matching method isin"
   ]
  },
  {
   "cell_type": "code",
   "execution_count": 16,
   "metadata": {
    "id": "n1xeAjg51fLA"
   },
   "outputs": [],
   "source": [
    "def match_unigrams_isin(X):\n",
    "    match = []\n",
    "    X = str(X)  # vorsichtshalber\n",
    "\n",
    "    X = str.lower(X)\n",
    "\n",
    "\n",
    "\n",
    "    for i in low_incivility_unigrams:\n",
    "        if i in X:\n",
    "            match.append(i)\n",
    "           # print(i)\n",
    "\n",
    "    return (match)"
   ]
  },
  {
   "cell_type": "code",
   "execution_count": 17,
   "metadata": {
    "id": "bc8OyQj91fLB"
   },
   "outputs": [],
   "source": [
    "df_test[\"Matches_isin\"]=df_test[\"comment_text\"].apply(lambda x: match_unigrams_isin(x))"
   ]
  },
  {
   "cell_type": "code",
   "execution_count": 18,
   "metadata": {
    "colab": {
     "base_uri": "https://localhost:8080/",
     "height": 424
    },
    "executionInfo": {
     "elapsed": 13,
     "status": "ok",
     "timestamp": 1639065174014,
     "user": {
      "displayName": "Anke S.",
      "photoUrl": "https://lh3.googleusercontent.com/a/default-user=s64",
      "userId": "12382145308137163489"
     },
     "user_tz": -60
    },
    "id": "PRlQ2gaT1fLC",
    "outputId": "4fce068e-5bc6-4d87-a1be-1394c2244103"
   },
   "outputs": [
    {
     "data": {
      "text/html": [
       "<div>\n",
       "<style scoped>\n",
       "    .dataframe tbody tr th:only-of-type {\n",
       "        vertical-align: middle;\n",
       "    }\n",
       "\n",
       "    .dataframe tbody tr th {\n",
       "        vertical-align: top;\n",
       "    }\n",
       "\n",
       "    .dataframe thead th {\n",
       "        text-align: right;\n",
       "    }\n",
       "</style>\n",
       "<table border=\"1\" class=\"dataframe\">\n",
       "  <thead>\n",
       "    <tr style=\"text-align: right;\">\n",
       "      <th></th>\n",
       "      <th>comment_text</th>\n",
       "      <th>Sub1_Toxic</th>\n",
       "      <th>Matches_isin</th>\n",
       "    </tr>\n",
       "  </thead>\n",
       "  <tbody>\n",
       "    <tr>\n",
       "      <th>0</th>\n",
       "      <td>@USER Sie würden wahrscheinlich auch einen Kri...</td>\n",
       "      <td>1</td>\n",
       "      <td>[]</td>\n",
       "    </tr>\n",
       "    <tr>\n",
       "      <th>1</th>\n",
       "      <td>@USER , ich glaube,Sie verkrnnen gründlich die...</td>\n",
       "      <td>0</td>\n",
       "      <td>[]</td>\n",
       "    </tr>\n",
       "    <tr>\n",
       "      <th>2</th>\n",
       "      <td>@USER: Man kann natürlich immerzu dieselbe Sau...</td>\n",
       "      <td>0</td>\n",
       "      <td>[alte, amigo, esel, hund, hunde, linke, sau]</td>\n",
       "    </tr>\n",
       "    <tr>\n",
       "      <th>3</th>\n",
       "      <td>Als jemand, der im real existierenden Sozialis...</td>\n",
       "      <td>1</td>\n",
       "      <td>[sozi, trottel]</td>\n",
       "    </tr>\n",
       "    <tr>\n",
       "      <th>4</th>\n",
       "      <td>Ihr größter Erfolg in ihrem Leben? KLASSENSPRE...</td>\n",
       "      <td>1</td>\n",
       "      <td>[]</td>\n",
       "    </tr>\n",
       "    <tr>\n",
       "      <th>...</th>\n",
       "      <td>...</td>\n",
       "      <td>...</td>\n",
       "      <td>...</td>\n",
       "    </tr>\n",
       "    <tr>\n",
       "      <th>939</th>\n",
       "      <td>@USER Da ist wie gegen Windmühlen kämpfen</td>\n",
       "      <td>0</td>\n",
       "      <td>[]</td>\n",
       "    </tr>\n",
       "    <tr>\n",
       "      <th>940</th>\n",
       "      <td>@USER Ihr Wort in Gottes Ohr.</td>\n",
       "      <td>0</td>\n",
       "      <td>[]</td>\n",
       "    </tr>\n",
       "    <tr>\n",
       "      <th>941</th>\n",
       "      <td>😂</td>\n",
       "      <td>0</td>\n",
       "      <td>[😂]</td>\n",
       "    </tr>\n",
       "    <tr>\n",
       "      <th>942</th>\n",
       "      <td>Mimimimi</td>\n",
       "      <td>1</td>\n",
       "      <td>[mimimi, mimimimi]</td>\n",
       "    </tr>\n",
       "    <tr>\n",
       "      <th>943</th>\n",
       "      <td>@USER es gab keine Verstöße dort. Zusammen ohn...</td>\n",
       "      <td>0</td>\n",
       "      <td>[]</td>\n",
       "    </tr>\n",
       "  </tbody>\n",
       "</table>\n",
       "<p>944 rows × 3 columns</p>\n",
       "</div>"
      ],
      "text/plain": [
       "                                          comment_text  Sub1_Toxic  \\\n",
       "0    @USER Sie würden wahrscheinlich auch einen Kri...           1   \n",
       "1    @USER , ich glaube,Sie verkrnnen gründlich die...           0   \n",
       "2    @USER: Man kann natürlich immerzu dieselbe Sau...           0   \n",
       "3    Als jemand, der im real existierenden Sozialis...           1   \n",
       "4    Ihr größter Erfolg in ihrem Leben? KLASSENSPRE...           1   \n",
       "..                                                 ...         ...   \n",
       "939          @USER Da ist wie gegen Windmühlen kämpfen           0   \n",
       "940                      @USER Ihr Wort in Gottes Ohr.           0   \n",
       "941                                                  😂           0   \n",
       "942                                           Mimimimi           1   \n",
       "943  @USER es gab keine Verstöße dort. Zusammen ohn...           0   \n",
       "\n",
       "                                     Matches_isin  \n",
       "0                                              []  \n",
       "1                                              []  \n",
       "2    [alte, amigo, esel, hund, hunde, linke, sau]  \n",
       "3                                 [sozi, trottel]  \n",
       "4                                              []  \n",
       "..                                            ...  \n",
       "939                                            []  \n",
       "940                                            []  \n",
       "941                                           [😂]  \n",
       "942                            [mimimi, mimimimi]  \n",
       "943                                            []  \n",
       "\n",
       "[944 rows x 3 columns]"
      ]
     },
     "execution_count": 18,
     "metadata": {},
     "output_type": "execute_result"
    }
   ],
   "source": [
    "df_test"
   ]
  },
  {
   "cell_type": "code",
   "execution_count": 19,
   "metadata": {
    "id": "cvM0mCkU1fLE"
   },
   "outputs": [],
   "source": [
    "df_test[\"Number_Matches_isin\"] = df_test[\"Matches_isin\"].apply(lambda x: len(x))"
   ]
  },
  {
   "cell_type": "code",
   "execution_count": 20,
   "metadata": {
    "id": "BpcH0lOp1fLE"
   },
   "outputs": [],
   "source": [
    "def matches_to_sting(X):\n",
    "\n",
    "    X = \", \".join(X)\n",
    "\n",
    "    return (X)"
   ]
  },
  {
   "cell_type": "code",
   "execution_count": 21,
   "metadata": {
    "id": "cB59DeVi1fLF"
   },
   "outputs": [],
   "source": [
    "df_test[\"Matches_isin_str\"] = df_test[\"Matches_isin\"].apply(lambda x: matches_to_sting(x))"
   ]
  },
  {
   "cell_type": "code",
   "execution_count": 22,
   "metadata": {
    "id": "o6q--GTS1fLG"
   },
   "outputs": [],
   "source": [
    "def f(row):\n",
    "    if row['Number_Matches_isin'] > 0:\n",
    "        val = 1\n",
    "    elif row['Number_Matches_isin'] == 0:\n",
    "        val = 0\n",
    "    \n",
    "    return val"
   ]
  },
  {
   "cell_type": "code",
   "execution_count": 23,
   "metadata": {
    "id": "lALmUJ711fLG"
   },
   "outputs": [],
   "source": [
    "df_test['label_isin_dich']  = df_test.apply(f, axis=1)"
   ]
  },
  {
   "cell_type": "code",
   "execution_count": 24,
   "metadata": {
    "colab": {
     "base_uri": "https://localhost:8080/",
     "height": 424
    },
    "executionInfo": {
     "elapsed": 4,
     "status": "ok",
     "timestamp": 1639065182330,
     "user": {
      "displayName": "Anke S.",
      "photoUrl": "https://lh3.googleusercontent.com/a/default-user=s64",
      "userId": "12382145308137163489"
     },
     "user_tz": -60
    },
    "id": "144ekWwA1fLH",
    "outputId": "0807fc90-3c1f-4f01-980a-0a5de6281343"
   },
   "outputs": [
    {
     "data": {
      "text/html": [
       "<div>\n",
       "<style scoped>\n",
       "    .dataframe tbody tr th:only-of-type {\n",
       "        vertical-align: middle;\n",
       "    }\n",
       "\n",
       "    .dataframe tbody tr th {\n",
       "        vertical-align: top;\n",
       "    }\n",
       "\n",
       "    .dataframe thead th {\n",
       "        text-align: right;\n",
       "    }\n",
       "</style>\n",
       "<table border=\"1\" class=\"dataframe\">\n",
       "  <thead>\n",
       "    <tr style=\"text-align: right;\">\n",
       "      <th></th>\n",
       "      <th>comment_text</th>\n",
       "      <th>Sub1_Toxic</th>\n",
       "      <th>Matches_isin</th>\n",
       "      <th>Number_Matches_isin</th>\n",
       "      <th>Matches_isin_str</th>\n",
       "      <th>label_isin_dich</th>\n",
       "    </tr>\n",
       "  </thead>\n",
       "  <tbody>\n",
       "    <tr>\n",
       "      <th>0</th>\n",
       "      <td>@USER Sie würden wahrscheinlich auch einen Kri...</td>\n",
       "      <td>1</td>\n",
       "      <td>[]</td>\n",
       "      <td>0</td>\n",
       "      <td></td>\n",
       "      <td>0</td>\n",
       "    </tr>\n",
       "    <tr>\n",
       "      <th>1</th>\n",
       "      <td>@USER , ich glaube,Sie verkrnnen gründlich die...</td>\n",
       "      <td>0</td>\n",
       "      <td>[]</td>\n",
       "      <td>0</td>\n",
       "      <td></td>\n",
       "      <td>0</td>\n",
       "    </tr>\n",
       "    <tr>\n",
       "      <th>2</th>\n",
       "      <td>@USER: Man kann natürlich immerzu dieselbe Sau...</td>\n",
       "      <td>0</td>\n",
       "      <td>[alte, amigo, esel, hund, hunde, linke, sau]</td>\n",
       "      <td>7</td>\n",
       "      <td>alte, amigo, esel, hund, hunde, linke, sau</td>\n",
       "      <td>1</td>\n",
       "    </tr>\n",
       "    <tr>\n",
       "      <th>3</th>\n",
       "      <td>Als jemand, der im real existierenden Sozialis...</td>\n",
       "      <td>1</td>\n",
       "      <td>[sozi, trottel]</td>\n",
       "      <td>2</td>\n",
       "      <td>sozi, trottel</td>\n",
       "      <td>1</td>\n",
       "    </tr>\n",
       "    <tr>\n",
       "      <th>4</th>\n",
       "      <td>Ihr größter Erfolg in ihrem Leben? KLASSENSPRE...</td>\n",
       "      <td>1</td>\n",
       "      <td>[]</td>\n",
       "      <td>0</td>\n",
       "      <td></td>\n",
       "      <td>0</td>\n",
       "    </tr>\n",
       "    <tr>\n",
       "      <th>...</th>\n",
       "      <td>...</td>\n",
       "      <td>...</td>\n",
       "      <td>...</td>\n",
       "      <td>...</td>\n",
       "      <td>...</td>\n",
       "      <td>...</td>\n",
       "    </tr>\n",
       "    <tr>\n",
       "      <th>939</th>\n",
       "      <td>@USER Da ist wie gegen Windmühlen kämpfen</td>\n",
       "      <td>0</td>\n",
       "      <td>[]</td>\n",
       "      <td>0</td>\n",
       "      <td></td>\n",
       "      <td>0</td>\n",
       "    </tr>\n",
       "    <tr>\n",
       "      <th>940</th>\n",
       "      <td>@USER Ihr Wort in Gottes Ohr.</td>\n",
       "      <td>0</td>\n",
       "      <td>[]</td>\n",
       "      <td>0</td>\n",
       "      <td></td>\n",
       "      <td>0</td>\n",
       "    </tr>\n",
       "    <tr>\n",
       "      <th>941</th>\n",
       "      <td>😂</td>\n",
       "      <td>0</td>\n",
       "      <td>[😂]</td>\n",
       "      <td>1</td>\n",
       "      <td>😂</td>\n",
       "      <td>1</td>\n",
       "    </tr>\n",
       "    <tr>\n",
       "      <th>942</th>\n",
       "      <td>Mimimimi</td>\n",
       "      <td>1</td>\n",
       "      <td>[mimimi, mimimimi]</td>\n",
       "      <td>2</td>\n",
       "      <td>mimimi, mimimimi</td>\n",
       "      <td>1</td>\n",
       "    </tr>\n",
       "    <tr>\n",
       "      <th>943</th>\n",
       "      <td>@USER es gab keine Verstöße dort. Zusammen ohn...</td>\n",
       "      <td>0</td>\n",
       "      <td>[]</td>\n",
       "      <td>0</td>\n",
       "      <td></td>\n",
       "      <td>0</td>\n",
       "    </tr>\n",
       "  </tbody>\n",
       "</table>\n",
       "<p>944 rows × 6 columns</p>\n",
       "</div>"
      ],
      "text/plain": [
       "                                          comment_text  Sub1_Toxic  \\\n",
       "0    @USER Sie würden wahrscheinlich auch einen Kri...           1   \n",
       "1    @USER , ich glaube,Sie verkrnnen gründlich die...           0   \n",
       "2    @USER: Man kann natürlich immerzu dieselbe Sau...           0   \n",
       "3    Als jemand, der im real existierenden Sozialis...           1   \n",
       "4    Ihr größter Erfolg in ihrem Leben? KLASSENSPRE...           1   \n",
       "..                                                 ...         ...   \n",
       "939          @USER Da ist wie gegen Windmühlen kämpfen           0   \n",
       "940                      @USER Ihr Wort in Gottes Ohr.           0   \n",
       "941                                                  😂           0   \n",
       "942                                           Mimimimi           1   \n",
       "943  @USER es gab keine Verstöße dort. Zusammen ohn...           0   \n",
       "\n",
       "                                     Matches_isin  Number_Matches_isin  \\\n",
       "0                                              []                    0   \n",
       "1                                              []                    0   \n",
       "2    [alte, amigo, esel, hund, hunde, linke, sau]                    7   \n",
       "3                                 [sozi, trottel]                    2   \n",
       "4                                              []                    0   \n",
       "..                                            ...                  ...   \n",
       "939                                            []                    0   \n",
       "940                                            []                    0   \n",
       "941                                           [😂]                    1   \n",
       "942                            [mimimi, mimimimi]                    2   \n",
       "943                                            []                    0   \n",
       "\n",
       "                               Matches_isin_str  label_isin_dich  \n",
       "0                                                              0  \n",
       "1                                                              0  \n",
       "2    alte, amigo, esel, hund, hunde, linke, sau                1  \n",
       "3                                 sozi, trottel                1  \n",
       "4                                                              0  \n",
       "..                                          ...              ...  \n",
       "939                                                            0  \n",
       "940                                                            0  \n",
       "941                                           😂                1  \n",
       "942                            mimimi, mimimimi                1  \n",
       "943                                                            0  \n",
       "\n",
       "[944 rows x 6 columns]"
      ]
     },
     "execution_count": 24,
     "metadata": {},
     "output_type": "execute_result"
    }
   ],
   "source": [
    "df_test"
   ]
  },
  {
   "cell_type": "code",
   "execution_count": 25,
   "metadata": {
    "colab": {
     "base_uri": "https://localhost:8080/"
    },
    "executionInfo": {
     "elapsed": 502,
     "status": "ok",
     "timestamp": 1639065188366,
     "user": {
      "displayName": "Anke S.",
      "photoUrl": "https://lh3.googleusercontent.com/a/default-user=s64",
      "userId": "12382145308137163489"
     },
     "user_tz": -60
    },
    "id": "ARTwm6Gr5bBe",
    "outputId": "39cb7bd2-0024-4dc9-e4a7-f2575a2b8b52"
   },
   "outputs": [
    {
     "data": {
      "text/plain": [
       "0    517\n",
       "1    427\n",
       "Name: label_isin_dich, dtype: int64"
      ]
     },
     "execution_count": 25,
     "metadata": {},
     "output_type": "execute_result"
    }
   ],
   "source": [
    "df_test.label_isin_dich.value_counts()"
   ]
  },
  {
   "cell_type": "markdown",
   "metadata": {},
   "source": [
    "#### Quantitative Error Analysis"
   ]
  },
  {
   "cell_type": "code",
   "execution_count": 26,
   "metadata": {
    "colab": {
     "base_uri": "https://localhost:8080/"
    },
    "executionInfo": {
     "elapsed": 355,
     "status": "ok",
     "timestamp": 1639065190295,
     "user": {
      "displayName": "Anke S.",
      "photoUrl": "https://lh3.googleusercontent.com/a/default-user=s64",
      "userId": "12382145308137163489"
     },
     "user_tz": -60
    },
    "id": "aH7l6f471fLI",
    "outputId": "34adeb22-0d03-4e8e-dc28-7f5e7de2dc4e"
   },
   "outputs": [
    {
     "name": "stdout",
     "output_type": "stream",
     "text": [
      "              precision    recall  f1-score   support\n",
      "\n",
      "           0       0.73      0.64      0.68       594\n",
      "           1       0.49      0.60      0.54       350\n",
      "\n",
      "    accuracy                           0.62       944\n",
      "   macro avg       0.61      0.62      0.61       944\n",
      "weighted avg       0.64      0.62      0.63       944\n",
      "\n"
     ]
    }
   ],
   "source": [
    "from sklearn.metrics import classification_report\n",
    "print(classification_report(df_test[\"Sub1_Toxic\"], df_test[\"label_isin_dich\"]))"
   ]
  },
  {
   "cell_type": "markdown",
   "metadata": {
    "id": "ln_KoytP5yQE"
   },
   "source": [
    "#### Qualitative Error Analysis"
   ]
  },
  {
   "cell_type": "code",
   "execution_count": 27,
   "metadata": {
    "id": "PDx789Vc8q0K"
   },
   "outputs": [],
   "source": [
    "#False Positives\n",
    "df_fp = df_test[[\"comment_text\",\"Matches_isin_str\"]][df_test[\"Sub1_Toxic\"] < df_test[\"label_isin_dich\"]]"
   ]
  },
  {
   "cell_type": "code",
   "execution_count": 28,
   "metadata": {
    "colab": {
     "base_uri": "https://localhost:8080/"
    },
    "executionInfo": {
     "elapsed": 4,
     "status": "ok",
     "timestamp": 1639065231155,
     "user": {
      "displayName": "Anke S.",
      "photoUrl": "https://lh3.googleusercontent.com/a/default-user=s64",
      "userId": "12382145308137163489"
     },
     "user_tz": -60
    },
    "id": "ncCPO3k88xNb",
    "outputId": "7cc7c7da-9f9f-4daf-f9fe-cd7f343a3a10"
   },
   "outputs": [
    {
     "data": {
      "text/plain": [
       "216"
      ]
     },
     "execution_count": 28,
     "metadata": {},
     "output_type": "execute_result"
    }
   ],
   "source": [
    "len(df_fp)"
   ]
  },
  {
   "cell_type": "code",
   "execution_count": 29,
   "metadata": {
    "colab": {
     "base_uri": "https://localhost:8080/",
     "height": 206
    },
    "executionInfo": {
     "elapsed": 406,
     "status": "ok",
     "timestamp": 1639065261761,
     "user": {
      "displayName": "Anke S.",
      "photoUrl": "https://lh3.googleusercontent.com/a/default-user=s64",
      "userId": "12382145308137163489"
     },
     "user_tz": -60
    },
    "id": "6zs1h8At5tHd",
    "outputId": "3fbb80f3-be46-48a0-bd11-a0702f6ee7ef"
   },
   "outputs": [
    {
     "data": {
      "text/html": [
       "<div>\n",
       "<style scoped>\n",
       "    .dataframe tbody tr th:only-of-type {\n",
       "        vertical-align: middle;\n",
       "    }\n",
       "\n",
       "    .dataframe tbody tr th {\n",
       "        vertical-align: top;\n",
       "    }\n",
       "\n",
       "    .dataframe thead th {\n",
       "        text-align: right;\n",
       "    }\n",
       "</style>\n",
       "<table border=\"1\" class=\"dataframe\">\n",
       "  <thead>\n",
       "    <tr style=\"text-align: right;\">\n",
       "      <th></th>\n",
       "      <th>comment_text</th>\n",
       "      <th>Matches_isin_str</th>\n",
       "    </tr>\n",
       "  </thead>\n",
       "  <tbody>\n",
       "    <tr>\n",
       "      <th>2</th>\n",
       "      <td>@USER: Man kann natürlich immerzu dieselbe Sau...</td>\n",
       "      <td>alte, amigo, esel, hund, hunde, linke, sau</td>\n",
       "    </tr>\n",
       "    <tr>\n",
       "      <th>6</th>\n",
       "      <td>@MEDIUM ...stimmt so nicht ganz: bespiel \"klei...</td>\n",
       "      <td>alte, alter</td>\n",
       "    </tr>\n",
       "    <tr>\n",
       "      <th>8</th>\n",
       "      <td>Warum man diesen Typen einlädt wird sich mir n...</td>\n",
       "      <td>affe, affen, assi, dümmste, möchtegern, pack, ...</td>\n",
       "    </tr>\n",
       "    <tr>\n",
       "      <th>17</th>\n",
       "      <td>@USER Pest und Cholera.</td>\n",
       "      <td>pest</td>\n",
       "    </tr>\n",
       "    <tr>\n",
       "      <th>25</th>\n",
       "      <td>Abgesehen davon werden alte Autoreifen als Bre...</td>\n",
       "      <td>alte, schmutz</td>\n",
       "    </tr>\n",
       "  </tbody>\n",
       "</table>\n",
       "</div>"
      ],
      "text/plain": [
       "                                         comment_text  \\\n",
       "2   @USER: Man kann natürlich immerzu dieselbe Sau...   \n",
       "6   @MEDIUM ...stimmt so nicht ganz: bespiel \"klei...   \n",
       "8   Warum man diesen Typen einlädt wird sich mir n...   \n",
       "17                            @USER Pest und Cholera.   \n",
       "25  Abgesehen davon werden alte Autoreifen als Bre...   \n",
       "\n",
       "                                     Matches_isin_str  \n",
       "2          alte, amigo, esel, hund, hunde, linke, sau  \n",
       "6                                         alte, alter  \n",
       "8   affe, affen, assi, dümmste, möchtegern, pack, ...  \n",
       "17                                               pest  \n",
       "25                                      alte, schmutz  "
      ]
     },
     "execution_count": 29,
     "metadata": {},
     "output_type": "execute_result"
    }
   ],
   "source": [
    "df_fp.head() "
   ]
  },
  {
   "cell_type": "code",
   "execution_count": null,
   "metadata": {
    "id": "sFhv40dg6C1t"
   },
   "outputs": [],
   "source": [
    "df_fp.to_csv(\"DIKIsmall_FalsePositives.csv\", index=None, encoding=\"utf-8\")"
   ]
  },
  {
   "cell_type": "code",
   "execution_count": 30,
   "metadata": {
    "id": "P37Xo5rZ82Ex"
   },
   "outputs": [],
   "source": [
    "#False Negatives\n",
    "df_fn = df_test[[\"comment_text\"]][df_test[\"Sub1_Toxic\"] > df_test[\"label_isin_dich\"]] "
   ]
  },
  {
   "cell_type": "code",
   "execution_count": 31,
   "metadata": {
    "colab": {
     "base_uri": "https://localhost:8080/"
    },
    "executionInfo": {
     "elapsed": 350,
     "status": "ok",
     "timestamp": 1639065233477,
     "user": {
      "displayName": "Anke S.",
      "photoUrl": "https://lh3.googleusercontent.com/a/default-user=s64",
      "userId": "12382145308137163489"
     },
     "user_tz": -60
    },
    "id": "sezsUnN082H3",
    "outputId": "7078ddad-bfd7-44af-ae79-fb2c00eae8dd"
   },
   "outputs": [
    {
     "data": {
      "text/plain": [
       "139"
      ]
     },
     "execution_count": 31,
     "metadata": {},
     "output_type": "execute_result"
    }
   ],
   "source": [
    "len(df_fn)"
   ]
  },
  {
   "cell_type": "code",
   "execution_count": 32,
   "metadata": {
    "colab": {
     "base_uri": "https://localhost:8080/",
     "height": 206
    },
    "executionInfo": {
     "elapsed": 362,
     "status": "ok",
     "timestamp": 1639065280928,
     "user": {
      "displayName": "Anke S.",
      "photoUrl": "https://lh3.googleusercontent.com/a/default-user=s64",
      "userId": "12382145308137163489"
     },
     "user_tz": -60
    },
    "id": "RrhMjitQ5zin",
    "outputId": "e52ac958-01b0-4c47-9176-eae3a9b135a6"
   },
   "outputs": [
    {
     "data": {
      "text/html": [
       "<div>\n",
       "<style scoped>\n",
       "    .dataframe tbody tr th:only-of-type {\n",
       "        vertical-align: middle;\n",
       "    }\n",
       "\n",
       "    .dataframe tbody tr th {\n",
       "        vertical-align: top;\n",
       "    }\n",
       "\n",
       "    .dataframe thead th {\n",
       "        text-align: right;\n",
       "    }\n",
       "</style>\n",
       "<table border=\"1\" class=\"dataframe\">\n",
       "  <thead>\n",
       "    <tr style=\"text-align: right;\">\n",
       "      <th></th>\n",
       "      <th>comment_text</th>\n",
       "    </tr>\n",
       "  </thead>\n",
       "  <tbody>\n",
       "    <tr>\n",
       "      <th>0</th>\n",
       "      <td>@USER Sie würden wahrscheinlich auch einen Kri...</td>\n",
       "    </tr>\n",
       "    <tr>\n",
       "      <th>4</th>\n",
       "      <td>Ihr größter Erfolg in ihrem Leben? KLASSENSPRE...</td>\n",
       "    </tr>\n",
       "    <tr>\n",
       "      <th>13</th>\n",
       "      <td>Großen Respekt wie Herr Hallervorden mit der S...</td>\n",
       "    </tr>\n",
       "    <tr>\n",
       "      <th>24</th>\n",
       "      <td>Sry aber Preetz hat nicht viel beizutragen. Er...</td>\n",
       "    </tr>\n",
       "    <tr>\n",
       "      <th>28</th>\n",
       "      <td>@USER 👍🏻dem kann ich nur zustimmen. Was nützt ...</td>\n",
       "    </tr>\n",
       "  </tbody>\n",
       "</table>\n",
       "</div>"
      ],
      "text/plain": [
       "                                         comment_text\n",
       "0   @USER Sie würden wahrscheinlich auch einen Kri...\n",
       "4   Ihr größter Erfolg in ihrem Leben? KLASSENSPRE...\n",
       "13  Großen Respekt wie Herr Hallervorden mit der S...\n",
       "24  Sry aber Preetz hat nicht viel beizutragen. Er...\n",
       "28  @USER 👍🏻dem kann ich nur zustimmen. Was nützt ..."
      ]
     },
     "execution_count": 32,
     "metadata": {},
     "output_type": "execute_result"
    }
   ],
   "source": [
    "df_fn.head()"
   ]
  },
  {
   "cell_type": "code",
   "execution_count": null,
   "metadata": {
    "id": "ckBHaT2e9dEt"
   },
   "outputs": [],
   "source": [
    "df_fn.to_csv(\"/content/gdrive/My Drive/Uncivil Annotations/Incivility Dictionary Full Paper/Analyse/DIKIsmall_FalseNegatives.csv\", index=None, encoding=\"utf-8\")"
   ]
  }
 ],
 "metadata": {
  "colab": {
   "collapsed_sections": [
    "JN7yYPtJ4MWn",
    "Z4tByWIf1fK6",
    "W2SD66WK7Yj1",
    "-mIAftRW7dZO",
    "oVVyThrb7gRz"
   ],
   "name": "DIKI_FullPaper_Evaluation_DIKIsmall.ipynb",
   "provenance": []
  },
  "kernelspec": {
   "display_name": "Python 3",
   "language": "python",
   "name": "python3"
  },
  "language_info": {
   "codemirror_mode": {
    "name": "ipython",
    "version": 3
   },
   "file_extension": ".py",
   "mimetype": "text/x-python",
   "name": "python",
   "nbconvert_exporter": "python",
   "pygments_lexer": "ipython3",
   "version": "3.8.3"
  }
 },
 "nbformat": 4,
 "nbformat_minor": 1
}
