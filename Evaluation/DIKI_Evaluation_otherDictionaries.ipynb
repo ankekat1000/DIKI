{
 "cells": [
  {
   "cell_type": "markdown",
   "metadata": {},
   "source": [
    "# Evaluation LIWC Swearing & insult.wiki"
   ]
  },
  {
   "cell_type": "markdown",
   "metadata": {},
   "source": [
    "Meta information removed for blind review."
   ]
  },
  {
   "cell_type": "markdown",
   "metadata": {},
   "source": [
    "### 1) Prepare Evaluation Data Set"
   ]
  },
  {
   "cell_type": "code",
   "execution_count": 1,
   "metadata": {},
   "outputs": [],
   "source": [
    "import pandas as pd"
   ]
  },
  {
   "cell_type": "code",
   "execution_count": 2,
   "metadata": {},
   "outputs": [],
   "source": [
    "df_test = pd.read_csv('C:/Users/.../GermEval21_TestData.csv') "
   ]
  },
  {
   "cell_type": "code",
   "execution_count": 3,
   "metadata": {},
   "outputs": [
    {
     "data": {
      "text/html": [
       "<div>\n",
       "<style scoped>\n",
       "    .dataframe tbody tr th:only-of-type {\n",
       "        vertical-align: middle;\n",
       "    }\n",
       "\n",
       "    .dataframe tbody tr th {\n",
       "        vertical-align: top;\n",
       "    }\n",
       "\n",
       "    .dataframe thead th {\n",
       "        text-align: right;\n",
       "    }\n",
       "</style>\n",
       "<table border=\"1\" class=\"dataframe\">\n",
       "  <thead>\n",
       "    <tr style=\"text-align: right;\">\n",
       "      <th></th>\n",
       "      <th>comment_id</th>\n",
       "      <th>comment_text</th>\n",
       "      <th>Sub1_Toxic</th>\n",
       "      <th>Sub2_Engaging</th>\n",
       "      <th>Sub3_FactClaiming</th>\n",
       "    </tr>\n",
       "  </thead>\n",
       "  <tbody>\n",
       "    <tr>\n",
       "      <th>0</th>\n",
       "      <td>3245</td>\n",
       "      <td>@USER Sie würden wahrscheinlich auch einen Kri...</td>\n",
       "      <td>1</td>\n",
       "      <td>1</td>\n",
       "      <td>0</td>\n",
       "    </tr>\n",
       "    <tr>\n",
       "      <th>1</th>\n",
       "      <td>3246</td>\n",
       "      <td>@USER , ich glaube,Sie verkrnnen gründlich die...</td>\n",
       "      <td>0</td>\n",
       "      <td>1</td>\n",
       "      <td>1</td>\n",
       "    </tr>\n",
       "    <tr>\n",
       "      <th>2</th>\n",
       "      <td>3247</td>\n",
       "      <td>@USER: Man kann natürlich immerzu dieselbe Sau...</td>\n",
       "      <td>0</td>\n",
       "      <td>1</td>\n",
       "      <td>1</td>\n",
       "    </tr>\n",
       "    <tr>\n",
       "      <th>3</th>\n",
       "      <td>3248</td>\n",
       "      <td>Als jemand, der im real existierenden Sozialis...</td>\n",
       "      <td>1</td>\n",
       "      <td>0</td>\n",
       "      <td>0</td>\n",
       "    </tr>\n",
       "    <tr>\n",
       "      <th>4</th>\n",
       "      <td>3249</td>\n",
       "      <td>Ihr größter Erfolg in ihrem Leben? KLASSENSPRE...</td>\n",
       "      <td>1</td>\n",
       "      <td>0</td>\n",
       "      <td>0</td>\n",
       "    </tr>\n",
       "  </tbody>\n",
       "</table>\n",
       "</div>"
      ],
      "text/plain": [
       "   comment_id                                       comment_text  Sub1_Toxic  \\\n",
       "0        3245  @USER Sie würden wahrscheinlich auch einen Kri...           1   \n",
       "1        3246  @USER , ich glaube,Sie verkrnnen gründlich die...           0   \n",
       "2        3247  @USER: Man kann natürlich immerzu dieselbe Sau...           0   \n",
       "3        3248  Als jemand, der im real existierenden Sozialis...           1   \n",
       "4        3249  Ihr größter Erfolg in ihrem Leben? KLASSENSPRE...           1   \n",
       "\n",
       "   Sub2_Engaging  Sub3_FactClaiming  \n",
       "0              1                  0  \n",
       "1              1                  1  \n",
       "2              1                  1  \n",
       "3              0                  0  \n",
       "4              0                  0  "
      ]
     },
     "execution_count": 3,
     "metadata": {},
     "output_type": "execute_result"
    }
   ],
   "source": [
    "df_test.head()"
   ]
  },
  {
   "cell_type": "code",
   "execution_count": 4,
   "metadata": {},
   "outputs": [
    {
     "data": {
      "text/html": [
       "<div>\n",
       "<style scoped>\n",
       "    .dataframe tbody tr th:only-of-type {\n",
       "        vertical-align: middle;\n",
       "    }\n",
       "\n",
       "    .dataframe tbody tr th {\n",
       "        vertical-align: top;\n",
       "    }\n",
       "\n",
       "    .dataframe thead th {\n",
       "        text-align: right;\n",
       "    }\n",
       "</style>\n",
       "<table border=\"1\" class=\"dataframe\">\n",
       "  <thead>\n",
       "    <tr style=\"text-align: right;\">\n",
       "      <th></th>\n",
       "      <th>comment_text</th>\n",
       "      <th>Sub1_Toxic</th>\n",
       "    </tr>\n",
       "  </thead>\n",
       "  <tbody>\n",
       "    <tr>\n",
       "      <th>0</th>\n",
       "      <td>@USER Sie würden wahrscheinlich auch einen Kri...</td>\n",
       "      <td>1</td>\n",
       "    </tr>\n",
       "    <tr>\n",
       "      <th>1</th>\n",
       "      <td>@USER , ich glaube,Sie verkrnnen gründlich die...</td>\n",
       "      <td>0</td>\n",
       "    </tr>\n",
       "    <tr>\n",
       "      <th>2</th>\n",
       "      <td>@USER: Man kann natürlich immerzu dieselbe Sau...</td>\n",
       "      <td>0</td>\n",
       "    </tr>\n",
       "    <tr>\n",
       "      <th>3</th>\n",
       "      <td>Als jemand, der im real existierenden Sozialis...</td>\n",
       "      <td>1</td>\n",
       "    </tr>\n",
       "    <tr>\n",
       "      <th>4</th>\n",
       "      <td>Ihr größter Erfolg in ihrem Leben? KLASSENSPRE...</td>\n",
       "      <td>1</td>\n",
       "    </tr>\n",
       "  </tbody>\n",
       "</table>\n",
       "</div>"
      ],
      "text/plain": [
       "                                        comment_text  Sub1_Toxic\n",
       "0  @USER Sie würden wahrscheinlich auch einen Kri...           1\n",
       "1  @USER , ich glaube,Sie verkrnnen gründlich die...           0\n",
       "2  @USER: Man kann natürlich immerzu dieselbe Sau...           0\n",
       "3  Als jemand, der im real existierenden Sozialis...           1\n",
       "4  Ihr größter Erfolg in ihrem Leben? KLASSENSPRE...           1"
      ]
     },
     "execution_count": 4,
     "metadata": {},
     "output_type": "execute_result"
    }
   ],
   "source": [
    "df_test = df_test[[\"comment_text\", \"Sub1_Toxic\"]]\n",
    "df_test.head()"
   ]
  },
  {
   "cell_type": "code",
   "execution_count": 5,
   "metadata": {},
   "outputs": [
    {
     "data": {
      "text/plain": [
       "0    594\n",
       "1    350\n",
       "Name: Sub1_Toxic, dtype: int64"
      ]
     },
     "execution_count": 5,
     "metadata": {},
     "output_type": "execute_result"
    }
   ],
   "source": [
    "df_test[\"Sub1_Toxic\"].value_counts() #Derivation of Uncivil Comments in the Evaluation Data Set"
   ]
  },
  {
   "cell_type": "markdown",
   "metadata": {},
   "source": [
    "## LIWC Swearing"
   ]
  },
  {
   "cell_type": "markdown",
   "metadata": {},
   "source": [
    "#### Read and Prepare Dictionary"
   ]
  },
  {
   "cell_type": "code",
   "execution_count": 6,
   "metadata": {},
   "outputs": [
    {
     "data": {
      "text/html": [
       "<div>\n",
       "<style scoped>\n",
       "    .dataframe tbody tr th:only-of-type {\n",
       "        vertical-align: middle;\n",
       "    }\n",
       "\n",
       "    .dataframe tbody tr th {\n",
       "        vertical-align: top;\n",
       "    }\n",
       "\n",
       "    .dataframe thead th {\n",
       "        text-align: right;\n",
       "    }\n",
       "</style>\n",
       "<table border=\"1\" class=\"dataframe\">\n",
       "  <thead>\n",
       "    <tr style=\"text-align: right;\">\n",
       "      <th></th>\n",
       "      <th>wort</th>\n",
       "      <th>1</th>\n",
       "      <th>2</th>\n",
       "      <th>3</th>\n",
       "      <th>4</th>\n",
       "      <th>5</th>\n",
       "      <th>6</th>\n",
       "      <th>7</th>\n",
       "      <th>8</th>\n",
       "      <th>9</th>\n",
       "    </tr>\n",
       "  </thead>\n",
       "  <tbody>\n",
       "    <tr>\n",
       "      <th>0</th>\n",
       "      <td>ab</td>\n",
       "      <td>10</td>\n",
       "      <td>37.0</td>\n",
       "      <td>41.0</td>\n",
       "      <td>NaN</td>\n",
       "      <td>NaN</td>\n",
       "      <td>NaN</td>\n",
       "      <td>NaN</td>\n",
       "      <td>NaN</td>\n",
       "      <td>NaN</td>\n",
       "    </tr>\n",
       "    <tr>\n",
       "      <th>1</th>\n",
       "      <td>abbrach*</td>\n",
       "      <td>38</td>\n",
       "      <td>NaN</td>\n",
       "      <td>NaN</td>\n",
       "      <td>NaN</td>\n",
       "      <td>NaN</td>\n",
       "      <td>NaN</td>\n",
       "      <td>NaN</td>\n",
       "      <td>NaN</td>\n",
       "      <td>NaN</td>\n",
       "    </tr>\n",
       "    <tr>\n",
       "      <th>2</th>\n",
       "      <td>abbreche</td>\n",
       "      <td>39</td>\n",
       "      <td>NaN</td>\n",
       "      <td>NaN</td>\n",
       "      <td>NaN</td>\n",
       "      <td>NaN</td>\n",
       "      <td>NaN</td>\n",
       "      <td>NaN</td>\n",
       "      <td>NaN</td>\n",
       "      <td>NaN</td>\n",
       "    </tr>\n",
       "    <tr>\n",
       "      <th>3</th>\n",
       "      <td>abbrich*</td>\n",
       "      <td>39</td>\n",
       "      <td>NaN</td>\n",
       "      <td>NaN</td>\n",
       "      <td>NaN</td>\n",
       "      <td>NaN</td>\n",
       "      <td>NaN</td>\n",
       "      <td>NaN</td>\n",
       "      <td>NaN</td>\n",
       "      <td>NaN</td>\n",
       "    </tr>\n",
       "    <tr>\n",
       "      <th>4</th>\n",
       "      <td>abend*</td>\n",
       "      <td>37</td>\n",
       "      <td>NaN</td>\n",
       "      <td>NaN</td>\n",
       "      <td>NaN</td>\n",
       "      <td>NaN</td>\n",
       "      <td>NaN</td>\n",
       "      <td>NaN</td>\n",
       "      <td>NaN</td>\n",
       "      <td>NaN</td>\n",
       "    </tr>\n",
       "    <tr>\n",
       "      <th>...</th>\n",
       "      <td>...</td>\n",
       "      <td>...</td>\n",
       "      <td>...</td>\n",
       "      <td>...</td>\n",
       "      <td>...</td>\n",
       "      <td>...</td>\n",
       "      <td>...</td>\n",
       "      <td>...</td>\n",
       "      <td>...</td>\n",
       "      <td>...</td>\n",
       "    </tr>\n",
       "    <tr>\n",
       "      <th>7593</th>\n",
       "      <td>zwoelf*</td>\n",
       "      <td>11</td>\n",
       "      <td>NaN</td>\n",
       "      <td>NaN</td>\n",
       "      <td>NaN</td>\n",
       "      <td>NaN</td>\n",
       "      <td>NaN</td>\n",
       "      <td>NaN</td>\n",
       "      <td>NaN</td>\n",
       "      <td>NaN</td>\n",
       "    </tr>\n",
       "    <tr>\n",
       "      <th>7594</th>\n",
       "      <td>zwölf*</td>\n",
       "      <td>11</td>\n",
       "      <td>NaN</td>\n",
       "      <td>NaN</td>\n",
       "      <td>NaN</td>\n",
       "      <td>NaN</td>\n",
       "      <td>NaN</td>\n",
       "      <td>NaN</td>\n",
       "      <td>NaN</td>\n",
       "      <td>NaN</td>\n",
       "    </tr>\n",
       "    <tr>\n",
       "      <th>7595</th>\n",
       "      <td>zynisch*</td>\n",
       "      <td>12</td>\n",
       "      <td>16.0</td>\n",
       "      <td>18.0</td>\n",
       "      <td>NaN</td>\n",
       "      <td>NaN</td>\n",
       "      <td>NaN</td>\n",
       "      <td>NaN</td>\n",
       "      <td>NaN</td>\n",
       "      <td>NaN</td>\n",
       "    </tr>\n",
       "    <tr>\n",
       "      <th>7596</th>\n",
       "      <td>zyste*</td>\n",
       "      <td>60</td>\n",
       "      <td>61.0</td>\n",
       "      <td>NaN</td>\n",
       "      <td>NaN</td>\n",
       "      <td>NaN</td>\n",
       "      <td>NaN</td>\n",
       "      <td>NaN</td>\n",
       "      <td>NaN</td>\n",
       "      <td>NaN</td>\n",
       "    </tr>\n",
       "    <tr>\n",
       "      <th>7597</th>\n",
       "      <td>WAHR</td>\n",
       "      <td>12</td>\n",
       "      <td>13.0</td>\n",
       "      <td>NaN</td>\n",
       "      <td>NaN</td>\n",
       "      <td>NaN</td>\n",
       "      <td>NaN</td>\n",
       "      <td>NaN</td>\n",
       "      <td>NaN</td>\n",
       "      <td>NaN</td>\n",
       "    </tr>\n",
       "  </tbody>\n",
       "</table>\n",
       "<p>7598 rows × 10 columns</p>\n",
       "</div>"
      ],
      "text/plain": [
       "          wort   1     2     3   4   5   6   7   8   9\n",
       "0           ab  10  37.0  41.0 NaN NaN NaN NaN NaN NaN\n",
       "1     abbrach*  38   NaN   NaN NaN NaN NaN NaN NaN NaN\n",
       "2     abbreche  39   NaN   NaN NaN NaN NaN NaN NaN NaN\n",
       "3     abbrich*  39   NaN   NaN NaN NaN NaN NaN NaN NaN\n",
       "4       abend*  37   NaN   NaN NaN NaN NaN NaN NaN NaN\n",
       "...        ...  ..   ...   ...  ..  ..  ..  ..  ..  ..\n",
       "7593   zwoelf*  11   NaN   NaN NaN NaN NaN NaN NaN NaN\n",
       "7594    zwölf*  11   NaN   NaN NaN NaN NaN NaN NaN NaN\n",
       "7595  zynisch*  12  16.0  18.0 NaN NaN NaN NaN NaN NaN\n",
       "7596    zyste*  60  61.0   NaN NaN NaN NaN NaN NaN NaN\n",
       "7597      WAHR  12  13.0   NaN NaN NaN NaN NaN NaN NaN\n",
       "\n",
       "[7598 rows x 10 columns]"
      ]
     },
     "execution_count": 6,
     "metadata": {},
     "output_type": "execute_result"
    }
   ],
   "source": [
    "#Read LIWC\n",
    "liwc= pd.read_table(\"Other Dictionaries/LIWC_German_edit\", \n",
    "                    error_bad_lines=False,names=[\"wort\",1,2,3,4,5,6,7,8,9],\n",
    "                   )\n",
    "liwc"
   ]
  },
  {
   "cell_type": "code",
   "execution_count": 7,
   "metadata": {},
   "outputs": [
    {
     "data": {
      "text/html": [
       "<div>\n",
       "<style scoped>\n",
       "    .dataframe tbody tr th:only-of-type {\n",
       "        vertical-align: middle;\n",
       "    }\n",
       "\n",
       "    .dataframe tbody tr th {\n",
       "        vertical-align: top;\n",
       "    }\n",
       "\n",
       "    .dataframe thead th {\n",
       "        text-align: right;\n",
       "    }\n",
       "</style>\n",
       "<table border=\"1\" class=\"dataframe\">\n",
       "  <thead>\n",
       "    <tr style=\"text-align: right;\">\n",
       "      <th></th>\n",
       "      <th>wort</th>\n",
       "      <th>1</th>\n",
       "      <th>2</th>\n",
       "      <th>3</th>\n",
       "      <th>4</th>\n",
       "      <th>5</th>\n",
       "      <th>6</th>\n",
       "      <th>7</th>\n",
       "      <th>8</th>\n",
       "      <th>9</th>\n",
       "    </tr>\n",
       "  </thead>\n",
       "  <tbody>\n",
       "    <tr>\n",
       "      <th>126</th>\n",
       "      <td>abschaum*</td>\n",
       "      <td>66</td>\n",
       "      <td>NaN</td>\n",
       "      <td>NaN</td>\n",
       "      <td>NaN</td>\n",
       "      <td>NaN</td>\n",
       "      <td>NaN</td>\n",
       "      <td>NaN</td>\n",
       "      <td>NaN</td>\n",
       "      <td>NaN</td>\n",
       "    </tr>\n",
       "    <tr>\n",
       "      <th>206</th>\n",
       "      <td>aersche</td>\n",
       "      <td>12</td>\n",
       "      <td>16.0</td>\n",
       "      <td>18.0</td>\n",
       "      <td>60.0</td>\n",
       "      <td>61.0</td>\n",
       "      <td>62.0</td>\n",
       "      <td>66.0</td>\n",
       "      <td>NaN</td>\n",
       "      <td>NaN</td>\n",
       "    </tr>\n",
       "    <tr>\n",
       "      <th>212</th>\n",
       "      <td>affe</td>\n",
       "      <td>66</td>\n",
       "      <td>NaN</td>\n",
       "      <td>NaN</td>\n",
       "      <td>NaN</td>\n",
       "      <td>NaN</td>\n",
       "      <td>NaN</td>\n",
       "      <td>NaN</td>\n",
       "      <td>NaN</td>\n",
       "      <td>NaN</td>\n",
       "    </tr>\n",
       "    <tr>\n",
       "      <th>516</th>\n",
       "      <td>armleuchter*</td>\n",
       "      <td>66</td>\n",
       "      <td>NaN</td>\n",
       "      <td>NaN</td>\n",
       "      <td>NaN</td>\n",
       "      <td>NaN</td>\n",
       "      <td>NaN</td>\n",
       "      <td>NaN</td>\n",
       "      <td>NaN</td>\n",
       "      <td>NaN</td>\n",
       "    </tr>\n",
       "    <tr>\n",
       "      <th>518</th>\n",
       "      <td>arsch*</td>\n",
       "      <td>12</td>\n",
       "      <td>16.0</td>\n",
       "      <td>18.0</td>\n",
       "      <td>60.0</td>\n",
       "      <td>61.0</td>\n",
       "      <td>62.0</td>\n",
       "      <td>66.0</td>\n",
       "      <td>NaN</td>\n",
       "      <td>NaN</td>\n",
       "    </tr>\n",
       "    <tr>\n",
       "      <th>...</th>\n",
       "      <td>...</td>\n",
       "      <td>...</td>\n",
       "      <td>...</td>\n",
       "      <td>...</td>\n",
       "      <td>...</td>\n",
       "      <td>...</td>\n",
       "      <td>...</td>\n",
       "      <td>...</td>\n",
       "      <td>...</td>\n",
       "      <td>...</td>\n",
       "    </tr>\n",
       "    <tr>\n",
       "      <th>7134</th>\n",
       "      <td>weibsstück*</td>\n",
       "      <td>66</td>\n",
       "      <td>NaN</td>\n",
       "      <td>NaN</td>\n",
       "      <td>NaN</td>\n",
       "      <td>NaN</td>\n",
       "      <td>NaN</td>\n",
       "      <td>NaN</td>\n",
       "      <td>NaN</td>\n",
       "      <td>NaN</td>\n",
       "    </tr>\n",
       "    <tr>\n",
       "      <th>7135</th>\n",
       "      <td>weibsstueck*</td>\n",
       "      <td>66</td>\n",
       "      <td>NaN</td>\n",
       "      <td>NaN</td>\n",
       "      <td>NaN</td>\n",
       "      <td>NaN</td>\n",
       "      <td>NaN</td>\n",
       "      <td>NaN</td>\n",
       "      <td>NaN</td>\n",
       "      <td>NaN</td>\n",
       "    </tr>\n",
       "    <tr>\n",
       "      <th>7229</th>\n",
       "      <td>wichtigtuer*</td>\n",
       "      <td>66</td>\n",
       "      <td>NaN</td>\n",
       "      <td>NaN</td>\n",
       "      <td>NaN</td>\n",
       "      <td>NaN</td>\n",
       "      <td>NaN</td>\n",
       "      <td>NaN</td>\n",
       "      <td>NaN</td>\n",
       "      <td>NaN</td>\n",
       "    </tr>\n",
       "    <tr>\n",
       "      <th>7394</th>\n",
       "      <td>zicke*</td>\n",
       "      <td>66</td>\n",
       "      <td>NaN</td>\n",
       "      <td>NaN</td>\n",
       "      <td>NaN</td>\n",
       "      <td>NaN</td>\n",
       "      <td>NaN</td>\n",
       "      <td>NaN</td>\n",
       "      <td>NaN</td>\n",
       "      <td>NaN</td>\n",
       "    </tr>\n",
       "    <tr>\n",
       "      <th>7415</th>\n",
       "      <td>zombie*</td>\n",
       "      <td>66</td>\n",
       "      <td>NaN</td>\n",
       "      <td>NaN</td>\n",
       "      <td>NaN</td>\n",
       "      <td>NaN</td>\n",
       "      <td>NaN</td>\n",
       "      <td>NaN</td>\n",
       "      <td>NaN</td>\n",
       "      <td>NaN</td>\n",
       "    </tr>\n",
       "  </tbody>\n",
       "</table>\n",
       "<p>142 rows × 10 columns</p>\n",
       "</div>"
      ],
      "text/plain": [
       "              wort   1     2     3     4     5     6     7   8   9\n",
       "126      abschaum*  66   NaN   NaN   NaN   NaN   NaN   NaN NaN NaN\n",
       "206        aersche  12  16.0  18.0  60.0  61.0  62.0  66.0 NaN NaN\n",
       "212           affe  66   NaN   NaN   NaN   NaN   NaN   NaN NaN NaN\n",
       "516   armleuchter*  66   NaN   NaN   NaN   NaN   NaN   NaN NaN NaN\n",
       "518         arsch*  12  16.0  18.0  60.0  61.0  62.0  66.0 NaN NaN\n",
       "...            ...  ..   ...   ...   ...   ...   ...   ...  ..  ..\n",
       "7134   weibsstück*  66   NaN   NaN   NaN   NaN   NaN   NaN NaN NaN\n",
       "7135  weibsstueck*  66   NaN   NaN   NaN   NaN   NaN   NaN NaN NaN\n",
       "7229  wichtigtuer*  66   NaN   NaN   NaN   NaN   NaN   NaN NaN NaN\n",
       "7394        zicke*  66   NaN   NaN   NaN   NaN   NaN   NaN NaN NaN\n",
       "7415       zombie*  66   NaN   NaN   NaN   NaN   NaN   NaN NaN NaN\n",
       "\n",
       "[142 rows x 10 columns]"
      ]
     },
     "execution_count": 7,
     "metadata": {},
     "output_type": "execute_result"
    }
   ],
   "source": [
    "#Extract LIWC Swear\n",
    "liwc_swear=liwc.loc[liwc.isin([66]).any(axis=1)] #66 is the code for the sub-dictionary Swear\n",
    "liwc_swear"
   ]
  },
  {
   "cell_type": "code",
   "execution_count": 8,
   "metadata": {},
   "outputs": [
    {
     "data": {
      "text/plain": [
       "['abschaum*',\n",
       " 'aersche',\n",
       " 'affe',\n",
       " 'armleuchter*',\n",
       " 'arsch*',\n",
       " 'ärsche',\n",
       " 'bastard*',\n",
       " 'bauerntoelpel*',\n",
       " 'bauerntölpel*',\n",
       " 'bekloppt*']"
      ]
     },
     "execution_count": 8,
     "metadata": {},
     "output_type": "execute_result"
    }
   ],
   "source": [
    "liwc_swear_list = list(liwc_swear.wort)\n",
    "liwc_swear_list[:10]"
   ]
  },
  {
   "cell_type": "markdown",
   "metadata": {},
   "source": [
    "#### Function for matching"
   ]
  },
  {
   "cell_type": "code",
   "execution_count": 9,
   "metadata": {},
   "outputs": [
    {
     "name": "stdout",
     "output_type": "stream",
     "text": [
      "['abschaum']\n",
      "['abschaum']\n"
     ]
    }
   ],
   "source": [
    "#Testing the matching algorithm\n",
    "import regex as re\n",
    "\n",
    "test_string = \"Regierung des abschaums\"\n",
    "\n",
    "result = re.findall(liwc_swear_list[0], test_string)\n",
    "print(result)\n",
    "if result:\n",
    "    print(result)\n",
    "else:\n",
    "    print(\"Search unsuccessful.\")"
   ]
  },
  {
   "cell_type": "code",
   "execution_count": 10,
   "metadata": {},
   "outputs": [],
   "source": [
    "liste_sterne = [] #wild card entires \n",
    "liste_nosterne = []\n",
    "\n",
    "for e in liwc_swear_list:\n",
    "        if \"*\" in e:\n",
    "          #  print(e)\n",
    "            liste_sterne.append(e)\n",
    "        else:\n",
    "           # print(\"ohne *:\", e)\n",
    "            liste_nosterne.append(e)\n",
    "            "
   ]
  },
  {
   "cell_type": "code",
   "execution_count": 11,
   "metadata": {},
   "outputs": [
    {
     "name": "stdout",
     "output_type": "stream",
     "text": [
      "Number of entries with wild card: 108\n"
     ]
    },
    {
     "data": {
      "text/plain": [
       "['abschaum*',\n",
       " 'armleuchter*',\n",
       " 'arsch*',\n",
       " 'bastard*',\n",
       " 'bauerntoelpel*',\n",
       " 'bauerntölpel*',\n",
       " 'bekloppt*',\n",
       " 'bescheuert*',\n",
       " 'biest*',\n",
       " 'blöd*']"
      ]
     },
     "execution_count": 11,
     "metadata": {},
     "output_type": "execute_result"
    }
   ],
   "source": [
    "print(\"Number of entries with wild card:\", len(liste_sterne))\n",
    "liste_sterne[:10]"
   ]
  },
  {
   "cell_type": "code",
   "execution_count": 12,
   "metadata": {},
   "outputs": [
    {
     "name": "stdout",
     "output_type": "stream",
     "text": [
      "Number of entries without wild card: 34\n"
     ]
    },
    {
     "data": {
      "text/plain": [
       "['aersche',\n",
       " 'affe',\n",
       " 'ärsche',\n",
       " 'bumse',\n",
       " 'bumst',\n",
       " 'durchficke',\n",
       " 'durchfickst',\n",
       " 'durchfickt',\n",
       " 'ficke',\n",
       " 'fickst']"
      ]
     },
     "execution_count": 12,
     "metadata": {},
     "output_type": "execute_result"
    }
   ],
   "source": [
    "print(\"Number of entries without wild card:\", len(liste_nosterne))\n",
    "liste_nosterne[:10] #wild card entires "
   ]
  },
  {
   "cell_type": "code",
   "execution_count": 13,
   "metadata": {},
   "outputs": [],
   "source": [
    "from nltk.tokenize import WhitespaceTokenizer\n",
    "\n",
    "tokenizer = WhitespaceTokenizer()#We apply Tokenization of srings by white space\n",
    "\n",
    "def match_regex(X):\n",
    "    X = str(X) \n",
    "    X = str.lower(X) #Lower string\n",
    "    \n",
    "    tokens = tokenizer.tokenize(X)\n",
    "\n",
    "    match = []\n",
    "    \n",
    "    for i in liste_sterne: #Matching wild entires cards using findall-method\n",
    "        try:\n",
    "            result = re.findall(i, X)\n",
    "            #print(i)\n",
    "            if result:\n",
    "                match.append(i)\n",
    "        except:\n",
    "            pass\n",
    "        \n",
    "    for token in tokens: #Matching non-wild card entries when token is in list of entries.\n",
    "        if token in liste_nosterne:\n",
    "            #print(token)\n",
    "            match.append(token)\n",
    "      \n",
    "    \n",
    "    return(match)"
   ]
  },
  {
   "cell_type": "code",
   "execution_count": 14,
   "metadata": {},
   "outputs": [],
   "source": [
    "df_test[\"matches_liwc\"]=df_test[\"comment_text\"].apply(lambda x: match_regex(x)) #Return machtes"
   ]
  },
  {
   "cell_type": "code",
   "execution_count": 15,
   "metadata": {},
   "outputs": [],
   "source": [
    "df_test[\"matches_count_liwc\"]=df_test[\"matches_liwc\"].apply(lambda x: len(x)) #Count number of machtes"
   ]
  },
  {
   "cell_type": "code",
   "execution_count": 16,
   "metadata": {},
   "outputs": [
    {
     "data": {
      "text/html": [
       "<div>\n",
       "<style scoped>\n",
       "    .dataframe tbody tr th:only-of-type {\n",
       "        vertical-align: middle;\n",
       "    }\n",
       "\n",
       "    .dataframe tbody tr th {\n",
       "        vertical-align: top;\n",
       "    }\n",
       "\n",
       "    .dataframe thead th {\n",
       "        text-align: right;\n",
       "    }\n",
       "</style>\n",
       "<table border=\"1\" class=\"dataframe\">\n",
       "  <thead>\n",
       "    <tr style=\"text-align: right;\">\n",
       "      <th></th>\n",
       "      <th>comment_text</th>\n",
       "      <th>Sub1_Toxic</th>\n",
       "      <th>matches_liwc</th>\n",
       "      <th>matches_count_liwc</th>\n",
       "    </tr>\n",
       "  </thead>\n",
       "  <tbody>\n",
       "    <tr>\n",
       "      <th>0</th>\n",
       "      <td>@USER Sie würden wahrscheinlich auch einen Kri...</td>\n",
       "      <td>1</td>\n",
       "      <td>[scheiß*]</td>\n",
       "      <td>1</td>\n",
       "    </tr>\n",
       "    <tr>\n",
       "      <th>1</th>\n",
       "      <td>@USER , ich glaube,Sie verkrnnen gründlich die...</td>\n",
       "      <td>0</td>\n",
       "      <td>[mist*]</td>\n",
       "      <td>1</td>\n",
       "    </tr>\n",
       "    <tr>\n",
       "      <th>2</th>\n",
       "      <td>@USER: Man kann natürlich immerzu dieselbe Sau...</td>\n",
       "      <td>0</td>\n",
       "      <td>[mist*, sau]</td>\n",
       "      <td>2</td>\n",
       "    </tr>\n",
       "    <tr>\n",
       "      <th>3</th>\n",
       "      <td>Als jemand, der im real existierenden Sozialis...</td>\n",
       "      <td>1</td>\n",
       "      <td>[macho*, trottel*]</td>\n",
       "      <td>2</td>\n",
       "    </tr>\n",
       "    <tr>\n",
       "      <th>4</th>\n",
       "      <td>Ihr größter Erfolg in ihrem Leben? KLASSENSPRE...</td>\n",
       "      <td>1</td>\n",
       "      <td>[]</td>\n",
       "      <td>0</td>\n",
       "    </tr>\n",
       "    <tr>\n",
       "      <th>5</th>\n",
       "      <td>Sobald klar ist dass Trump die Wahl gewinnt li...</td>\n",
       "      <td>1</td>\n",
       "      <td>[]</td>\n",
       "      <td>0</td>\n",
       "    </tr>\n",
       "    <tr>\n",
       "      <th>6</th>\n",
       "      <td>@MEDIUM ...stimmt so nicht ganz: bespiel \"klei...</td>\n",
       "      <td>0</td>\n",
       "      <td>[]</td>\n",
       "      <td>0</td>\n",
       "    </tr>\n",
       "    <tr>\n",
       "      <th>7</th>\n",
       "      <td>@USER woher wissen Sie das? Glauben heißt nich...</td>\n",
       "      <td>0</td>\n",
       "      <td>[]</td>\n",
       "      <td>0</td>\n",
       "    </tr>\n",
       "    <tr>\n",
       "      <th>8</th>\n",
       "      <td>Warum man diesen Typen einlädt wird sich mir n...</td>\n",
       "      <td>0</td>\n",
       "      <td>[dümm*]</td>\n",
       "      <td>1</td>\n",
       "    </tr>\n",
       "    <tr>\n",
       "      <th>9</th>\n",
       "      <td>@USER Merkel tritt nicht mehr an. Und mit Sars...</td>\n",
       "      <td>0</td>\n",
       "      <td>[arsch*]</td>\n",
       "      <td>1</td>\n",
       "    </tr>\n",
       "  </tbody>\n",
       "</table>\n",
       "</div>"
      ],
      "text/plain": [
       "                                        comment_text  Sub1_Toxic  \\\n",
       "0  @USER Sie würden wahrscheinlich auch einen Kri...           1   \n",
       "1  @USER , ich glaube,Sie verkrnnen gründlich die...           0   \n",
       "2  @USER: Man kann natürlich immerzu dieselbe Sau...           0   \n",
       "3  Als jemand, der im real existierenden Sozialis...           1   \n",
       "4  Ihr größter Erfolg in ihrem Leben? KLASSENSPRE...           1   \n",
       "5  Sobald klar ist dass Trump die Wahl gewinnt li...           1   \n",
       "6  @MEDIUM ...stimmt so nicht ganz: bespiel \"klei...           0   \n",
       "7  @USER woher wissen Sie das? Glauben heißt nich...           0   \n",
       "8  Warum man diesen Typen einlädt wird sich mir n...           0   \n",
       "9  @USER Merkel tritt nicht mehr an. Und mit Sars...           0   \n",
       "\n",
       "         matches_liwc  matches_count_liwc  \n",
       "0           [scheiß*]                   1  \n",
       "1             [mist*]                   1  \n",
       "2        [mist*, sau]                   2  \n",
       "3  [macho*, trottel*]                   2  \n",
       "4                  []                   0  \n",
       "5                  []                   0  \n",
       "6                  []                   0  \n",
       "7                  []                   0  \n",
       "8             [dümm*]                   1  \n",
       "9            [arsch*]                   1  "
      ]
     },
     "execution_count": 16,
     "metadata": {},
     "output_type": "execute_result"
    }
   ],
   "source": [
    "df_test.head(10)"
   ]
  },
  {
   "cell_type": "code",
   "execution_count": 17,
   "metadata": {},
   "outputs": [
    {
     "data": {
      "text/plain": [
       "0    725\n",
       "1    163\n",
       "2     42\n",
       "3     11\n",
       "4      2\n",
       "5      1\n",
       "Name: matches_count_liwc, dtype: int64"
      ]
     },
     "execution_count": 17,
     "metadata": {},
     "output_type": "execute_result"
    }
   ],
   "source": [
    "df_test[\"matches_count_liwc\"].value_counts()"
   ]
  },
  {
   "cell_type": "code",
   "execution_count": 18,
   "metadata": {},
   "outputs": [
    {
     "data": {
      "text/html": [
       "<div>\n",
       "<style scoped>\n",
       "    .dataframe tbody tr th:only-of-type {\n",
       "        vertical-align: middle;\n",
       "    }\n",
       "\n",
       "    .dataframe tbody tr th {\n",
       "        vertical-align: top;\n",
       "    }\n",
       "\n",
       "    .dataframe thead th {\n",
       "        text-align: right;\n",
       "    }\n",
       "</style>\n",
       "<table border=\"1\" class=\"dataframe\">\n",
       "  <thead>\n",
       "    <tr style=\"text-align: right;\">\n",
       "      <th></th>\n",
       "      <th>comment_text</th>\n",
       "      <th>Sub1_Toxic</th>\n",
       "      <th>matches_liwc</th>\n",
       "      <th>matches_count_liwc</th>\n",
       "    </tr>\n",
       "  </thead>\n",
       "  <tbody>\n",
       "    <tr>\n",
       "      <th>390</th>\n",
       "      <td>Entscheidung wurd doch korrigiert. Wo wird hie...</td>\n",
       "      <td>0</td>\n",
       "      <td>[idiot*, scheiß*, schiß*, schiss*, vollidiot*]</td>\n",
       "      <td>5</td>\n",
       "    </tr>\n",
       "    <tr>\n",
       "      <th>578</th>\n",
       "      <td>@USER es ist wahr, dass Trump keinen Krieg ang...</td>\n",
       "      <td>1</td>\n",
       "      <td>[hintern*, idiot*, macho*, vollidiot*]</td>\n",
       "      <td>4</td>\n",
       "    </tr>\n",
       "    <tr>\n",
       "      <th>908</th>\n",
       "      <td>Eines muss man Trump lassen er lässt die Mensc...</td>\n",
       "      <td>0</td>\n",
       "      <td>[hintern*, macho*, scheiß*, schiß*]</td>\n",
       "      <td>4</td>\n",
       "    </tr>\n",
       "    <tr>\n",
       "      <th>647</th>\n",
       "      <td>Manche Aussagen hier sind an Arroganz kaum zu ...</td>\n",
       "      <td>1</td>\n",
       "      <td>[idiot*, macho*, mist*]</td>\n",
       "      <td>3</td>\n",
       "    </tr>\n",
       "    <tr>\n",
       "      <th>62</th>\n",
       "      <td>In dieser Sachlage darf man die Aussage von Ge...</td>\n",
       "      <td>0</td>\n",
       "      <td>[dumm*, hintern*, macho*]</td>\n",
       "      <td>3</td>\n",
       "    </tr>\n",
       "    <tr>\n",
       "      <th>...</th>\n",
       "      <td>...</td>\n",
       "      <td>...</td>\n",
       "      <td>...</td>\n",
       "      <td>...</td>\n",
       "    </tr>\n",
       "    <tr>\n",
       "      <th>357</th>\n",
       "      <td>dann soll sie auch mal ihr Handy abgeben https...</td>\n",
       "      <td>0</td>\n",
       "      <td>[]</td>\n",
       "      <td>0</td>\n",
       "    </tr>\n",
       "    <tr>\n",
       "      <th>359</th>\n",
       "      <td>Für mich ist im Hinblick auf's Auto fahren ein...</td>\n",
       "      <td>0</td>\n",
       "      <td>[]</td>\n",
       "      <td>0</td>\n",
       "    </tr>\n",
       "    <tr>\n",
       "      <th>361</th>\n",
       "      <td>Was Klima- und Umweltschütz besonders gut könn...</td>\n",
       "      <td>1</td>\n",
       "      <td>[]</td>\n",
       "      <td>0</td>\n",
       "    </tr>\n",
       "    <tr>\n",
       "      <th>362</th>\n",
       "      <td>Es hieß damals, er wüsste nicht, ob er ein Pla...</td>\n",
       "      <td>0</td>\n",
       "      <td>[]</td>\n",
       "      <td>0</td>\n",
       "    </tr>\n",
       "    <tr>\n",
       "      <th>943</th>\n",
       "      <td>@USER es gab keine Verstöße dort. Zusammen ohn...</td>\n",
       "      <td>0</td>\n",
       "      <td>[]</td>\n",
       "      <td>0</td>\n",
       "    </tr>\n",
       "  </tbody>\n",
       "</table>\n",
       "<p>944 rows × 4 columns</p>\n",
       "</div>"
      ],
      "text/plain": [
       "                                          comment_text  Sub1_Toxic  \\\n",
       "390  Entscheidung wurd doch korrigiert. Wo wird hie...           0   \n",
       "578  @USER es ist wahr, dass Trump keinen Krieg ang...           1   \n",
       "908  Eines muss man Trump lassen er lässt die Mensc...           0   \n",
       "647  Manche Aussagen hier sind an Arroganz kaum zu ...           1   \n",
       "62   In dieser Sachlage darf man die Aussage von Ge...           0   \n",
       "..                                                 ...         ...   \n",
       "357  dann soll sie auch mal ihr Handy abgeben https...           0   \n",
       "359  Für mich ist im Hinblick auf's Auto fahren ein...           0   \n",
       "361  Was Klima- und Umweltschütz besonders gut könn...           1   \n",
       "362  Es hieß damals, er wüsste nicht, ob er ein Pla...           0   \n",
       "943  @USER es gab keine Verstöße dort. Zusammen ohn...           0   \n",
       "\n",
       "                                       matches_liwc  matches_count_liwc  \n",
       "390  [idiot*, scheiß*, schiß*, schiss*, vollidiot*]                   5  \n",
       "578          [hintern*, idiot*, macho*, vollidiot*]                   4  \n",
       "908             [hintern*, macho*, scheiß*, schiß*]                   4  \n",
       "647                         [idiot*, macho*, mist*]                   3  \n",
       "62                        [dumm*, hintern*, macho*]                   3  \n",
       "..                                              ...                 ...  \n",
       "357                                              []                   0  \n",
       "359                                              []                   0  \n",
       "361                                              []                   0  \n",
       "362                                              []                   0  \n",
       "943                                              []                   0  \n",
       "\n",
       "[944 rows x 4 columns]"
      ]
     },
     "execution_count": 18,
     "metadata": {},
     "output_type": "execute_result"
    }
   ],
   "source": [
    "df_test.sort_values(by=['matches_count_liwc'], ascending=False)"
   ]
  },
  {
   "cell_type": "code",
   "execution_count": 19,
   "metadata": {},
   "outputs": [],
   "source": [
    "df_test[\"liwc_dich\"] = df_test[\"matches_count_liwc\"].replace([2,3,4,5,], 1) #dichotomous coding"
   ]
  },
  {
   "cell_type": "code",
   "execution_count": 20,
   "metadata": {},
   "outputs": [
    {
     "data": {
      "text/plain": [
       "0    725\n",
       "1    219\n",
       "Name: liwc_dich, dtype: int64"
      ]
     },
     "execution_count": 20,
     "metadata": {},
     "output_type": "execute_result"
    }
   ],
   "source": [
    "df_test[\"liwc_dich\"].value_counts()"
   ]
  },
  {
   "cell_type": "markdown",
   "metadata": {},
   "source": [
    "#### Evaluation LIWC Swearing"
   ]
  },
  {
   "cell_type": "code",
   "execution_count": 21,
   "metadata": {},
   "outputs": [],
   "source": [
    "from sklearn.metrics import confusion_matrix, accuracy_score, classification_report"
   ]
  },
  {
   "cell_type": "code",
   "execution_count": 22,
   "metadata": {},
   "outputs": [
    {
     "name": "stdout",
     "output_type": "stream",
     "text": [
      "              precision    recall  f1-score   support\n",
      "\n",
      "           0       0.66      0.80      0.72       594\n",
      "           1       0.46      0.29      0.35       350\n",
      "\n",
      "    accuracy                           0.61       944\n",
      "   macro avg       0.56      0.54      0.54       944\n",
      "weighted avg       0.58      0.61      0.58       944\n",
      "\n"
     ]
    }
   ],
   "source": [
    "print(classification_report(df_test.Sub1_Toxic, df_test[\"liwc_dich\"]))"
   ]
  },
  {
   "cell_type": "markdown",
   "metadata": {},
   "source": [
    "## insult.wiki"
   ]
  },
  {
   "cell_type": "markdown",
   "metadata": {},
   "source": [
    "#### Read and prepare dictionary"
   ]
  },
  {
   "cell_type": "code",
   "execution_count": 23,
   "metadata": {},
   "outputs": [],
   "source": [
    "insults= pd.read_table(\"Other Dictionaries/insult_wiki_df.csv\")"
   ]
  },
  {
   "cell_type": "code",
   "execution_count": 24,
   "metadata": {},
   "outputs": [
    {
     "data": {
      "text/html": [
       "<div>\n",
       "<style scoped>\n",
       "    .dataframe tbody tr th:only-of-type {\n",
       "        vertical-align: middle;\n",
       "    }\n",
       "\n",
       "    .dataframe tbody tr th {\n",
       "        vertical-align: top;\n",
       "    }\n",
       "\n",
       "    .dataframe thead th {\n",
       "        text-align: right;\n",
       "    }\n",
       "</style>\n",
       "<table border=\"1\" class=\"dataframe\">\n",
       "  <thead>\n",
       "    <tr style=\"text-align: right;\">\n",
       "      <th></th>\n",
       "      <th>insult</th>\n",
       "    </tr>\n",
       "  </thead>\n",
       "  <tbody>\n",
       "    <tr>\n",
       "      <th>0</th>\n",
       "      <td>Aa-Esser</td>\n",
       "    </tr>\n",
       "    <tr>\n",
       "      <th>1</th>\n",
       "      <td>Aa-Gesicht</td>\n",
       "    </tr>\n",
       "    <tr>\n",
       "      <th>2</th>\n",
       "      <td>Aa-Kopf</td>\n",
       "    </tr>\n",
       "    <tr>\n",
       "      <th>3</th>\n",
       "      <td>Aal</td>\n",
       "    </tr>\n",
       "    <tr>\n",
       "      <th>4</th>\n",
       "      <td>Aalauge</td>\n",
       "    </tr>\n",
       "    <tr>\n",
       "      <th>...</th>\n",
       "      <td>...</td>\n",
       "    </tr>\n",
       "    <tr>\n",
       "      <th>1921</th>\n",
       "      <td>Zwitter</td>\n",
       "    </tr>\n",
       "    <tr>\n",
       "      <th>1922</th>\n",
       "      <td>Zyklopenfotze</td>\n",
       "    </tr>\n",
       "    <tr>\n",
       "      <th>1923</th>\n",
       "      <td>Zyniker</td>\n",
       "    </tr>\n",
       "    <tr>\n",
       "      <th>1924</th>\n",
       "      <td>Zyste</td>\n",
       "    </tr>\n",
       "    <tr>\n",
       "      <th>1925</th>\n",
       "      <td>Zystenfresse</td>\n",
       "    </tr>\n",
       "  </tbody>\n",
       "</table>\n",
       "<p>1926 rows × 1 columns</p>\n",
       "</div>"
      ],
      "text/plain": [
       "             insult\n",
       "0          Aa-Esser\n",
       "1        Aa-Gesicht\n",
       "2           Aa-Kopf\n",
       "3               Aal\n",
       "4           Aalauge\n",
       "...             ...\n",
       "1921        Zwitter\n",
       "1922  Zyklopenfotze\n",
       "1923        Zyniker\n",
       "1924          Zyste\n",
       "1925   Zystenfresse\n",
       "\n",
       "[1926 rows x 1 columns]"
      ]
     },
     "execution_count": 24,
     "metadata": {},
     "output_type": "execute_result"
    }
   ],
   "source": [
    "insults"
   ]
  },
  {
   "cell_type": "code",
   "execution_count": 25,
   "metadata": {},
   "outputs": [],
   "source": [
    "insults_list = list(insults.insult)"
   ]
  },
  {
   "cell_type": "code",
   "execution_count": 26,
   "metadata": {},
   "outputs": [
    {
     "data": {
      "text/plain": [
       "['Aa-Esser',\n",
       " 'Aa-Gesicht',\n",
       " 'Aa-Kopf',\n",
       " 'Aal',\n",
       " 'Aalauge',\n",
       " 'Aalficker',\n",
       " 'Aalfresse',\n",
       " 'Aa-Loch',\n",
       " 'Aalwurstverkäufer',\n",
       " 'Aas']"
      ]
     },
     "execution_count": 26,
     "metadata": {},
     "output_type": "execute_result"
    }
   ],
   "source": [
    "insults_list[:10]"
   ]
  },
  {
   "cell_type": "code",
   "execution_count": 27,
   "metadata": {},
   "outputs": [],
   "source": [
    "insults_list = [i.lower() for i in insults_list]"
   ]
  },
  {
   "cell_type": "code",
   "execution_count": 28,
   "metadata": {},
   "outputs": [
    {
     "data": {
      "text/plain": [
       "['aa-esser',\n",
       " 'aa-gesicht',\n",
       " 'aa-kopf',\n",
       " 'aal',\n",
       " 'aalauge',\n",
       " 'aalficker',\n",
       " 'aalfresse',\n",
       " 'aa-loch',\n",
       " 'aalwurstverkäufer',\n",
       " 'aas']"
      ]
     },
     "execution_count": 28,
     "metadata": {},
     "output_type": "execute_result"
    }
   ],
   "source": [
    "insults_list[:10]"
   ]
  },
  {
   "cell_type": "code",
   "execution_count": 29,
   "metadata": {},
   "outputs": [
    {
     "data": {
      "text/plain": [
       "1926"
      ]
     },
     "execution_count": 29,
     "metadata": {},
     "output_type": "execute_result"
    }
   ],
   "source": [
    "len(set(insults_list)) #no duplicates"
   ]
  },
  {
   "cell_type": "markdown",
   "metadata": {},
   "source": [
    "#### Matching function using is in method"
   ]
  },
  {
   "cell_type": "code",
   "execution_count": 30,
   "metadata": {},
   "outputs": [],
   "source": [
    "def match_unigrams_isin(X):\n",
    "    match = []\n",
    "    X = str(X)  # vorsichtshalber\n",
    "\n",
    "    X = str.lower(X)\n",
    "\n",
    "\n",
    "\n",
    "    for i in insults_list:\n",
    "        if i in X:\n",
    "            match.append(i)\n",
    "           # print(i)\n",
    "\n",
    "    return (match)"
   ]
  },
  {
   "cell_type": "code",
   "execution_count": 31,
   "metadata": {},
   "outputs": [],
   "source": [
    "df_test[\"matches_insults\"]=df_test[\"comment_text\"].apply(lambda x: match_unigrams_isin(x))"
   ]
  },
  {
   "cell_type": "code",
   "execution_count": 32,
   "metadata": {},
   "outputs": [],
   "source": [
    "df_test[\"matches_count_insults\"] = df_test[\"matches_insults\"].apply(lambda x: len(x))"
   ]
  },
  {
   "cell_type": "code",
   "execution_count": 33,
   "metadata": {},
   "outputs": [
    {
     "data": {
      "text/html": [
       "<div>\n",
       "<style scoped>\n",
       "    .dataframe tbody tr th:only-of-type {\n",
       "        vertical-align: middle;\n",
       "    }\n",
       "\n",
       "    .dataframe tbody tr th {\n",
       "        vertical-align: top;\n",
       "    }\n",
       "\n",
       "    .dataframe thead th {\n",
       "        text-align: right;\n",
       "    }\n",
       "</style>\n",
       "<table border=\"1\" class=\"dataframe\">\n",
       "  <thead>\n",
       "    <tr style=\"text-align: right;\">\n",
       "      <th></th>\n",
       "      <th>comment_text</th>\n",
       "      <th>Sub1_Toxic</th>\n",
       "      <th>matches_liwc</th>\n",
       "      <th>matches_count_liwc</th>\n",
       "      <th>liwc_dich</th>\n",
       "      <th>matches_insults</th>\n",
       "      <th>matches_count_insults</th>\n",
       "    </tr>\n",
       "  </thead>\n",
       "  <tbody>\n",
       "    <tr>\n",
       "      <th>0</th>\n",
       "      <td>@USER Sie würden wahrscheinlich auch einen Kri...</td>\n",
       "      <td>1</td>\n",
       "      <td>[scheiß*]</td>\n",
       "      <td>1</td>\n",
       "      <td>1</td>\n",
       "      <td>[]</td>\n",
       "      <td>0</td>\n",
       "    </tr>\n",
       "    <tr>\n",
       "      <th>1</th>\n",
       "      <td>@USER , ich glaube,Sie verkrnnen gründlich die...</td>\n",
       "      <td>0</td>\n",
       "      <td>[mist*]</td>\n",
       "      <td>1</td>\n",
       "      <td>1</td>\n",
       "      <td>[]</td>\n",
       "      <td>0</td>\n",
       "    </tr>\n",
       "    <tr>\n",
       "      <th>2</th>\n",
       "      <td>@USER: Man kann natürlich immerzu dieselbe Sau...</td>\n",
       "      <td>0</td>\n",
       "      <td>[mist*, sau]</td>\n",
       "      <td>2</td>\n",
       "      <td>1</td>\n",
       "      <td>[ding, esel, hund, ische, sau]</td>\n",
       "      <td>5</td>\n",
       "    </tr>\n",
       "    <tr>\n",
       "      <th>3</th>\n",
       "      <td>Als jemand, der im real existierenden Sozialis...</td>\n",
       "      <td>1</td>\n",
       "      <td>[macho*, trottel*]</td>\n",
       "      <td>2</td>\n",
       "      <td>1</td>\n",
       "      <td>[trottel]</td>\n",
       "      <td>1</td>\n",
       "    </tr>\n",
       "    <tr>\n",
       "      <th>4</th>\n",
       "      <td>Ihr größter Erfolg in ihrem Leben? KLASSENSPRE...</td>\n",
       "      <td>1</td>\n",
       "      <td>[]</td>\n",
       "      <td>0</td>\n",
       "      <td>0</td>\n",
       "      <td>[]</td>\n",
       "      <td>0</td>\n",
       "    </tr>\n",
       "    <tr>\n",
       "      <th>5</th>\n",
       "      <td>Sobald klar ist dass Trump die Wahl gewinnt li...</td>\n",
       "      <td>1</td>\n",
       "      <td>[]</td>\n",
       "      <td>0</td>\n",
       "      <td>0</td>\n",
       "      <td>[sau]</td>\n",
       "      <td>1</td>\n",
       "    </tr>\n",
       "    <tr>\n",
       "      <th>6</th>\n",
       "      <td>@MEDIUM ...stimmt so nicht ganz: bespiel \"klei...</td>\n",
       "      <td>0</td>\n",
       "      <td>[]</td>\n",
       "      <td>0</td>\n",
       "      <td>0</td>\n",
       "      <td>[]</td>\n",
       "      <td>0</td>\n",
       "    </tr>\n",
       "    <tr>\n",
       "      <th>7</th>\n",
       "      <td>@USER woher wissen Sie das? Glauben heißt nich...</td>\n",
       "      <td>0</td>\n",
       "      <td>[]</td>\n",
       "      <td>0</td>\n",
       "      <td>0</td>\n",
       "      <td>[]</td>\n",
       "      <td>0</td>\n",
       "    </tr>\n",
       "    <tr>\n",
       "      <th>8</th>\n",
       "      <td>Warum man diesen Typen einlädt wird sich mir n...</td>\n",
       "      <td>0</td>\n",
       "      <td>[dümm*]</td>\n",
       "      <td>1</td>\n",
       "      <td>1</td>\n",
       "      <td>[affe, assi, möchtegern, nichts, niemand, typ]</td>\n",
       "      <td>6</td>\n",
       "    </tr>\n",
       "    <tr>\n",
       "      <th>9</th>\n",
       "      <td>@USER Merkel tritt nicht mehr an. Und mit Sars...</td>\n",
       "      <td>0</td>\n",
       "      <td>[arsch*]</td>\n",
       "      <td>1</td>\n",
       "      <td>1</td>\n",
       "      <td>[]</td>\n",
       "      <td>0</td>\n",
       "    </tr>\n",
       "  </tbody>\n",
       "</table>\n",
       "</div>"
      ],
      "text/plain": [
       "                                        comment_text  Sub1_Toxic  \\\n",
       "0  @USER Sie würden wahrscheinlich auch einen Kri...           1   \n",
       "1  @USER , ich glaube,Sie verkrnnen gründlich die...           0   \n",
       "2  @USER: Man kann natürlich immerzu dieselbe Sau...           0   \n",
       "3  Als jemand, der im real existierenden Sozialis...           1   \n",
       "4  Ihr größter Erfolg in ihrem Leben? KLASSENSPRE...           1   \n",
       "5  Sobald klar ist dass Trump die Wahl gewinnt li...           1   \n",
       "6  @MEDIUM ...stimmt so nicht ganz: bespiel \"klei...           0   \n",
       "7  @USER woher wissen Sie das? Glauben heißt nich...           0   \n",
       "8  Warum man diesen Typen einlädt wird sich mir n...           0   \n",
       "9  @USER Merkel tritt nicht mehr an. Und mit Sars...           0   \n",
       "\n",
       "         matches_liwc  matches_count_liwc  liwc_dich  \\\n",
       "0           [scheiß*]                   1          1   \n",
       "1             [mist*]                   1          1   \n",
       "2        [mist*, sau]                   2          1   \n",
       "3  [macho*, trottel*]                   2          1   \n",
       "4                  []                   0          0   \n",
       "5                  []                   0          0   \n",
       "6                  []                   0          0   \n",
       "7                  []                   0          0   \n",
       "8             [dümm*]                   1          1   \n",
       "9            [arsch*]                   1          1   \n",
       "\n",
       "                                  matches_insults  matches_count_insults  \n",
       "0                                              []                      0  \n",
       "1                                              []                      0  \n",
       "2                  [ding, esel, hund, ische, sau]                      5  \n",
       "3                                       [trottel]                      1  \n",
       "4                                              []                      0  \n",
       "5                                           [sau]                      1  \n",
       "6                                              []                      0  \n",
       "7                                              []                      0  \n",
       "8  [affe, assi, möchtegern, nichts, niemand, typ]                      6  \n",
       "9                                              []                      0  "
      ]
     },
     "execution_count": 33,
     "metadata": {},
     "output_type": "execute_result"
    }
   ],
   "source": [
    "df_test.head(10)"
   ]
  },
  {
   "cell_type": "code",
   "execution_count": 34,
   "metadata": {},
   "outputs": [
    {
     "data": {
      "text/plain": [
       "0     661\n",
       "1     177\n",
       "2      65\n",
       "3      20\n",
       "4      17\n",
       "10      1\n",
       "7       1\n",
       "6       1\n",
       "5       1\n",
       "Name: matches_count_insults, dtype: int64"
      ]
     },
     "execution_count": 34,
     "metadata": {},
     "output_type": "execute_result"
    }
   ],
   "source": [
    "df_test.matches_count_insults.value_counts() #Overview match counts"
   ]
  },
  {
   "cell_type": "code",
   "execution_count": 35,
   "metadata": {},
   "outputs": [],
   "source": [
    "def f(row):\n",
    "    if row['matches_count_insults'] > 0:\n",
    "        val = 1\n",
    "    elif row['matches_count_insults'] == 0:\n",
    "        val = 0\n",
    "    \n",
    "    return val"
   ]
  },
  {
   "cell_type": "code",
   "execution_count": 36,
   "metadata": {},
   "outputs": [],
   "source": [
    "df_test['insults_dich']  = df_test.apply(f, axis=1)"
   ]
  },
  {
   "cell_type": "code",
   "execution_count": 37,
   "metadata": {},
   "outputs": [
    {
     "data": {
      "text/plain": [
       "0    661\n",
       "1    283\n",
       "Name: insults_dich, dtype: int64"
      ]
     },
     "execution_count": 37,
     "metadata": {},
     "output_type": "execute_result"
    }
   ],
   "source": [
    "df_test[\"insults_dich\"].value_counts()"
   ]
  },
  {
   "cell_type": "markdown",
   "metadata": {},
   "source": [
    "#### Evaluation insult.wiki"
   ]
  },
  {
   "cell_type": "code",
   "execution_count": 38,
   "metadata": {},
   "outputs": [
    {
     "name": "stdout",
     "output_type": "stream",
     "text": [
      "              precision    recall  f1-score   support\n",
      "\n",
      "           0       0.66      0.73      0.69       594\n",
      "           1       0.43      0.35      0.39       350\n",
      "\n",
      "    accuracy                           0.59       944\n",
      "   macro avg       0.54      0.54      0.54       944\n",
      "weighted avg       0.57      0.59      0.58       944\n",
      "\n"
     ]
    }
   ],
   "source": [
    "print(classification_report(df_test[\"Sub1_Toxic\"], df_test[\"insults_dich\"]))"
   ]
  }
 ],
 "metadata": {
  "kernelspec": {
   "display_name": "Python 3",
   "language": "python",
   "name": "python3"
  },
  "language_info": {
   "codemirror_mode": {
    "name": "ipython",
    "version": 3
   },
   "file_extension": ".py",
   "mimetype": "text/x-python",
   "name": "python",
   "nbconvert_exporter": "python",
   "pygments_lexer": "ipython3",
   "version": "3.8.3"
  }
 },
 "nbformat": 4,
 "nbformat_minor": 2
}
